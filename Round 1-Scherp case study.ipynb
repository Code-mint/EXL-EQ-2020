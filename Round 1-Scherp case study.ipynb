{
 "cells": [
  {
   "cell_type": "code",
   "execution_count": 1,
   "metadata": {},
   "outputs": [],
   "source": [
    "import pandas as pd\n",
    "import pandas_profiling\n",
    "import numpy as np\n",
    "from pyxlsb import open_workbook\n",
    "import matplotlib.pyplot as plt"
   ]
  },
  {
   "cell_type": "code",
   "execution_count": 2,
   "metadata": {},
   "outputs": [],
   "source": [
    "df=[]\n",
    "with open_workbook('EXL_EQ_2020_Train_datasets.xlsb') as wb:\n",
    "    with wb.get_sheet('Train Sample') as sheet:\n",
    "        for row in sheet.rows():\n",
    "            df.append([item.v for item in row])\n",
    "\n",
    "df1 = pd.DataFrame(df[1:], columns=df[0])"
   ]
  },
  {
   "cell_type": "code",
   "execution_count": 3,
   "metadata": {},
   "outputs": [
    {
     "data": {
      "text/html": [
       "<div>\n",
       "<style scoped>\n",
       "    .dataframe tbody tr th:only-of-type {\n",
       "        vertical-align: middle;\n",
       "    }\n",
       "\n",
       "    .dataframe tbody tr th {\n",
       "        vertical-align: top;\n",
       "    }\n",
       "\n",
       "    .dataframe thead th {\n",
       "        text-align: right;\n",
       "    }\n",
       "</style>\n",
       "<table border=\"1\" class=\"dataframe\">\n",
       "  <thead>\n",
       "    <tr style=\"text-align: right;\">\n",
       "      <th></th>\n",
       "      <th>cust_id</th>\n",
       "      <th>var1</th>\n",
       "      <th>var2</th>\n",
       "      <th>var3</th>\n",
       "      <th>var4</th>\n",
       "      <th>var5</th>\n",
       "      <th>var6</th>\n",
       "      <th>var7</th>\n",
       "      <th>var8</th>\n",
       "      <th>var9</th>\n",
       "      <th>...</th>\n",
       "      <th>var32</th>\n",
       "      <th>var33</th>\n",
       "      <th>var34</th>\n",
       "      <th>var35</th>\n",
       "      <th>var36</th>\n",
       "      <th>var37</th>\n",
       "      <th>var38</th>\n",
       "      <th>var39</th>\n",
       "      <th>var40</th>\n",
       "      <th>self_service_platform</th>\n",
       "    </tr>\n",
       "  </thead>\n",
       "  <tbody>\n",
       "    <tr>\n",
       "      <th>0</th>\n",
       "      <td>100001.0</td>\n",
       "      <td>2667.0</td>\n",
       "      <td>0.0</td>\n",
       "      <td>0.0</td>\n",
       "      <td>1768.0</td>\n",
       "      <td>0.0</td>\n",
       "      <td>4.0</td>\n",
       "      <td>0.0</td>\n",
       "      <td>2.0</td>\n",
       "      <td>291016.0</td>\n",
       "      <td>...</td>\n",
       "      <td>0.0</td>\n",
       "      <td>other</td>\n",
       "      <td>Inactive</td>\n",
       "      <td>Standard</td>\n",
       "      <td>Video/Internet/Voice</td>\n",
       "      <td>N</td>\n",
       "      <td>None</td>\n",
       "      <td>Single Housing</td>\n",
       "      <td>N</td>\n",
       "      <td>Desktop</td>\n",
       "    </tr>\n",
       "    <tr>\n",
       "      <th>1</th>\n",
       "      <td>100002.0</td>\n",
       "      <td>435.0</td>\n",
       "      <td>0.0</td>\n",
       "      <td>0.0</td>\n",
       "      <td>515.0</td>\n",
       "      <td>0.0</td>\n",
       "      <td>3.0</td>\n",
       "      <td>0.0</td>\n",
       "      <td>0.0</td>\n",
       "      <td>137667.0</td>\n",
       "      <td>...</td>\n",
       "      <td>0.0</td>\n",
       "      <td>other</td>\n",
       "      <td>Never</td>\n",
       "      <td>Standard</td>\n",
       "      <td>Video/Internet</td>\n",
       "      <td>N</td>\n",
       "      <td>None</td>\n",
       "      <td>Single Housing</td>\n",
       "      <td>N</td>\n",
       "      <td>Desktop</td>\n",
       "    </tr>\n",
       "    <tr>\n",
       "      <th>2</th>\n",
       "      <td>100003.0</td>\n",
       "      <td>1520.0</td>\n",
       "      <td>0.0</td>\n",
       "      <td>0.0</td>\n",
       "      <td>2280.0</td>\n",
       "      <td>0.0</td>\n",
       "      <td>6.0</td>\n",
       "      <td>0.0</td>\n",
       "      <td>4.0</td>\n",
       "      <td>301567.0</td>\n",
       "      <td>...</td>\n",
       "      <td>0.0</td>\n",
       "      <td>other</td>\n",
       "      <td>Inactive</td>\n",
       "      <td>Standard</td>\n",
       "      <td>Video/Internet/Voice</td>\n",
       "      <td>N</td>\n",
       "      <td>Agent</td>\n",
       "      <td>Single Housing</td>\n",
       "      <td>Y</td>\n",
       "      <td>Desktop</td>\n",
       "    </tr>\n",
       "    <tr>\n",
       "      <th>3</th>\n",
       "      <td>100004.0</td>\n",
       "      <td>4393.0</td>\n",
       "      <td>0.0</td>\n",
       "      <td>1.0</td>\n",
       "      <td>5731.0</td>\n",
       "      <td>0.0</td>\n",
       "      <td>8.0</td>\n",
       "      <td>1.0</td>\n",
       "      <td>27.0</td>\n",
       "      <td>436735.0</td>\n",
       "      <td>...</td>\n",
       "      <td>1.0</td>\n",
       "      <td>other</td>\n",
       "      <td>Active</td>\n",
       "      <td>Standard</td>\n",
       "      <td>Internet Only</td>\n",
       "      <td>None</td>\n",
       "      <td>None</td>\n",
       "      <td>Single Housing</td>\n",
       "      <td>N</td>\n",
       "      <td>Desktop</td>\n",
       "    </tr>\n",
       "    <tr>\n",
       "      <th>4</th>\n",
       "      <td>100005.0</td>\n",
       "      <td>3587.0</td>\n",
       "      <td>0.0</td>\n",
       "      <td>0.0</td>\n",
       "      <td>2493.0</td>\n",
       "      <td>0.0</td>\n",
       "      <td>7.0</td>\n",
       "      <td>0.0</td>\n",
       "      <td>7.0</td>\n",
       "      <td>314970.0</td>\n",
       "      <td>...</td>\n",
       "      <td>0.0</td>\n",
       "      <td>movie_channel1</td>\n",
       "      <td>Never</td>\n",
       "      <td>Standard</td>\n",
       "      <td>Internet Only</td>\n",
       "      <td>N</td>\n",
       "      <td>None</td>\n",
       "      <td>Multi Housing</td>\n",
       "      <td>N</td>\n",
       "      <td>STB</td>\n",
       "    </tr>\n",
       "  </tbody>\n",
       "</table>\n",
       "<p>5 rows × 38 columns</p>\n",
       "</div>"
      ],
      "text/plain": [
       "    cust_id    var1  var2  var3    var4  var5  var6  var7  var8      var9  \\\n",
       "0  100001.0  2667.0   0.0   0.0  1768.0   0.0   4.0   0.0   2.0  291016.0   \n",
       "1  100002.0   435.0   0.0   0.0   515.0   0.0   3.0   0.0   0.0  137667.0   \n",
       "2  100003.0  1520.0   0.0   0.0  2280.0   0.0   6.0   0.0   4.0  301567.0   \n",
       "3  100004.0  4393.0   0.0   1.0  5731.0   0.0   8.0   1.0  27.0  436735.0   \n",
       "4  100005.0  3587.0   0.0   0.0  2493.0   0.0   7.0   0.0   7.0  314970.0   \n",
       "\n",
       "   ...  var32           var33     var34     var35                 var36  \\\n",
       "0  ...    0.0           other  Inactive  Standard  Video/Internet/Voice   \n",
       "1  ...    0.0           other     Never  Standard        Video/Internet   \n",
       "2  ...    0.0           other  Inactive  Standard  Video/Internet/Voice   \n",
       "3  ...    1.0           other    Active  Standard         Internet Only   \n",
       "4  ...    0.0  movie_channel1     Never  Standard         Internet Only   \n",
       "\n",
       "   var37  var38           var39  var40  self_service_platform  \n",
       "0      N   None  Single Housing      N                Desktop  \n",
       "1      N   None  Single Housing      N                Desktop  \n",
       "2      N  Agent  Single Housing      Y                Desktop  \n",
       "3   None   None  Single Housing      N                Desktop  \n",
       "4      N   None   Multi Housing      N                    STB  \n",
       "\n",
       "[5 rows x 38 columns]"
      ]
     },
     "execution_count": 3,
     "metadata": {},
     "output_type": "execute_result"
    }
   ],
   "source": [
    "df1.head()"
   ]
  },
  {
   "cell_type": "code",
   "execution_count": 4,
   "metadata": {},
   "outputs": [
    {
     "data": {
      "text/plain": [
       "(300000, 38)"
      ]
     },
     "execution_count": 4,
     "metadata": {},
     "output_type": "execute_result"
    }
   ],
   "source": [
    "df1.shape"
   ]
  },
  {
   "cell_type": "code",
   "execution_count": 5,
   "metadata": {},
   "outputs": [
    {
     "name": "stdout",
     "output_type": "stream",
     "text": [
      "0    100001.0\n",
      "Name: cust_id, dtype: float64\n",
      "0    2667.0\n",
      "Name: var1, dtype: float64\n",
      "0    0.0\n",
      "Name: var2, dtype: float64\n",
      "0    0.0\n",
      "Name: var3, dtype: float64\n",
      "0    1768.0\n",
      "Name: var4, dtype: float64\n",
      "0    0.0\n",
      "Name: var5, dtype: float64\n",
      "0    4.0\n",
      "Name: var6, dtype: float64\n",
      "0    0.0\n",
      "Name: var7, dtype: float64\n",
      "0    2.0\n",
      "Name: var8, dtype: float64\n",
      "0    291016.0\n",
      "Name: var9, dtype: float64\n",
      "0    0.0\n",
      "Name: var10, dtype: float64\n",
      "0    0.0\n",
      "Name: var11, dtype: float64\n",
      "0    109.0\n",
      "Name: var12, dtype: float64\n",
      "0    447.0\n",
      "Name: var13, dtype: float64\n",
      "0    0.0\n",
      "Name: var14, dtype: float64\n",
      "0    161.0\n",
      "Name: var15, dtype: float64\n",
      "0    0.0\n",
      "Name: var16, dtype: float64\n",
      "0    9.0\n",
      "Name: var21, dtype: float64\n",
      "0    85287.0\n",
      "Name: var22, dtype: float64\n",
      "0    27.0\n",
      "Name: var23, dtype: float64\n",
      "0    0.0\n",
      "Name: var24, dtype: float64\n",
      "0    0.0\n",
      "Name: var25, dtype: float64\n",
      "0    4.0\n",
      "Name: var26, dtype: float64\n",
      "0    153.0\n",
      "Name: var27, dtype: float64\n",
      "0    0.0\n",
      "Name: var28, dtype: float64\n",
      "0    0.0\n",
      "Name: var29, dtype: float64\n",
      "0    .\n",
      "Name: var30, dtype: object\n",
      "0    0.0\n",
      "Name: var31, dtype: float64\n",
      "0    0.0\n",
      "Name: var32, dtype: float64\n",
      "0    other\n",
      "Name: var33, dtype: object\n",
      "0    Inactive\n",
      "Name: var34, dtype: object\n",
      "0    Standard\n",
      "Name: var35, dtype: object\n",
      "0    Video/Internet/Voice\n",
      "Name: var36, dtype: object\n",
      "0    N\n",
      "Name: var37, dtype: object\n",
      "0    None\n",
      "Name: var38, dtype: object\n",
      "0    Single Housing\n",
      "Name: var39, dtype: object\n",
      "0    N\n",
      "Name: var40, dtype: object\n",
      "0    Desktop\n",
      "Name: self_service_platform, dtype: object\n"
     ]
    }
   ],
   "source": [
    "for i in df1.columns:\n",
    "    print(df1[i].head(1))"
   ]
  },
  {
   "cell_type": "code",
   "execution_count": 6,
   "metadata": {},
   "outputs": [
    {
     "name": "stdout",
     "output_type": "stream",
     "text": [
      ".    300000\n",
      "Name: var30, dtype: int64\n",
      "other                     272972\n",
      "news_channel1               8285\n",
      "news_channel2               6062\n",
      "entertainment_channel1      5563\n",
      "entertainment_channel2      4904\n",
      "movie_channel1              2214\n",
      "Name: var33, dtype: int64\n",
      "Never        105758\n",
      "Pending      104447\n",
      "Active        48580\n",
      "Inactive      34526\n",
      "Cancelled      6689\n",
      "Name: var34, dtype: int64\n",
      "Standard               283150\n",
      "CreditCard              10127\n",
      "Electronic Transfer      6723\n",
      "Name: var35, dtype: int64\n",
      "Video/Internet                       104654\n",
      "Video/Internet/Voice                  98173\n",
      "Internet Only                         63010\n",
      "Video Only                             9195\n",
      "Internet/Voice                         8072\n",
      "Video/Internet/Voice/Homesecurity      5603\n",
      "Video/Internet/Homesecurity            5153\n",
      "Internet/Homesecurity                   714\n",
      "Video/Voice                             359\n",
      "Homesecurity Only                       160\n",
      "Internet/Voice/Homesecurity             154\n",
      "Voice Only                              107\n",
      "Video/Homesecurity                       10\n",
      "Video/Voice/Homesecurity                  3\n",
      "Name: var36, dtype: int64\n",
      "N    275860\n",
      "Y      4698\n",
      "Name: var37, dtype: int64\n",
      "Agent           65235\n",
      "Other           36281\n",
      "Self Service    13332\n",
      "Name: var38, dtype: int64\n",
      "Single Housing     214816\n",
      "Multi Housing       82374\n",
      "Exclude mapping      2209\n",
      "Other                 310\n",
      "Commercial            269\n",
      "Name: var39, dtype: int64\n",
      "N    170475\n",
      "Y    129525\n",
      "Name: var40, dtype: int64\n",
      "Desktop       184194\n",
      "Mobile App     55595\n",
      "Mobile Web     48063\n",
      "STB            12148\n",
      "Name: self_service_platform, dtype: int64\n"
     ]
    }
   ],
   "source": [
    "# for text columns\n",
    "print(df1['var30'].value_counts())\n",
    "print(df1['var33'].value_counts())\n",
    "print(df1['var34'].value_counts())\n",
    "print(df1['var35'].value_counts())\n",
    "print(df1['var36'].value_counts()) #na\n",
    "print(df1['var37'].value_counts()) #na\n",
    "print(df1['var38'].value_counts()) #na\n",
    "print(df1['var39'].value_counts()) #na\n",
    "print(df1['var40'].value_counts())\n",
    "print(df1['self_service_platform'].value_counts())"
   ]
  },
  {
   "cell_type": "code",
   "execution_count": 7,
   "metadata": {},
   "outputs": [
    {
     "data": {
      "text/plain": [
       "cust_id                  False\n",
       "var1                     False\n",
       "var2                     False\n",
       "var3                     False\n",
       "var4                     False\n",
       "var5                     False\n",
       "var6                     False\n",
       "var7                     False\n",
       "var8                     False\n",
       "var9                     False\n",
       "var10                    False\n",
       "var11                    False\n",
       "var12                    False\n",
       "var13                    False\n",
       "var14                    False\n",
       "var15                    False\n",
       "var16                    False\n",
       "var21                    False\n",
       "var22                    False\n",
       "var23                    False\n",
       "var24                     True\n",
       "var25                    False\n",
       "var26                    False\n",
       "var27                    False\n",
       "var28                    False\n",
       "var29                    False\n",
       "var30                    False\n",
       "var31                    False\n",
       "var32                    False\n",
       "var33                    False\n",
       "var34                    False\n",
       "var35                    False\n",
       "var36                     True\n",
       "var37                     True\n",
       "var38                     True\n",
       "var39                     True\n",
       "var40                    False\n",
       "self_service_platform    False\n",
       "dtype: bool"
      ]
     },
     "execution_count": 7,
     "metadata": {},
     "output_type": "execute_result"
    }
   ],
   "source": [
    "df1.isnull().any()"
   ]
  },
  {
   "cell_type": "code",
   "execution_count": 8,
   "metadata": {},
   "outputs": [
    {
     "name": "stdout",
     "output_type": "stream",
     "text": [
      "[  0.  20.  33.   7.  30.   3.  21.  42. 117.   8.  nan   1.  13. 112.\n",
      "  14.   2.  17.  35.  37.  27.  28.  50.  67.  31.  40.  34.   4. 106.\n",
      "  16.  41.  47.  74.  52.  64.  39.   9.  60.  59.  12.  19.  43.  68.\n",
      " 132.  15.  11.  81.  25.  92.   5.  26.  82.  18.  45.  53.   6.  61.\n",
      "  90.  23.  38.  44.  32.  36.  58.  70.  94.  29.  10.  54.  22.  46.\n",
      "  48.  65. 104.  77. 103.  55.  57.  24.  49. 110.  97. 114. 109. 136.\n",
      "  96. 107. 102.  80. 125.  85.  88.  75.  56.  72.  79.  71. 123. 118.\n",
      " 122. 113.  99. 134.  62. 105.  83. 108.  63. 126. 135. 120.  86.  91.\n",
      " 131.  76. 100.  93. 101. 121.  89.  51.  69. 124. 147.  87.  73. 115.\n",
      " 111.  66. 119.  98.  84. 116.  95.  78. 130. 128. 145. 133. 142. 127.\n",
      " 137. 146. 141. 129. 139. 144. 140. 148. 138. 143.]\n",
      "['Video/Internet/Voice' 'Video/Internet' 'Internet Only' 'Internet/Voice'\n",
      " None 'Video Only' 'Homesecurity Only' 'Video/Internet/Voice/Homesecurity'\n",
      " 'Internet/Homesecurity' 'Video/Internet/Homesecurity' 'Video/Voice'\n",
      " 'Internet/Voice/Homesecurity' 'Voice Only' 'Video/Homesecurity'\n",
      " 'Video/Voice/Homesecurity']\n",
      "['N' None 'Y']\n",
      "[None 'Agent' 'Self Service' 'Other']\n",
      "['Single Housing' 'Multi Housing' 'Exclude mapping' 'Other' 'Commercial'\n",
      " None]\n"
     ]
    }
   ],
   "source": [
    "'''\n",
    "columns that have nan values are var24, var36, var37, var38, var39\n",
    "'''\n",
    "\n",
    "print(df1['var24'].unique())\n",
    "print(df1['var36'].unique())\n",
    "print(df1['var37'].unique())\n",
    "print(df1['var38'].unique())\n",
    "print(df1['var39'].unique())"
   ]
  },
  {
   "cell_type": "code",
   "execution_count": 9,
   "metadata": {},
   "outputs": [
    {
     "name": "stdout",
     "output_type": "stream",
     "text": [
      "9916\n",
      "4633\n",
      "19442\n",
      "185152\n",
      "22\n",
      "(300000, 38)\n"
     ]
    }
   ],
   "source": [
    "#count of null values \n",
    "print(df1['var24'].isnull().sum()) \n",
    "print(df1['var36'].isnull().sum())\n",
    "print(df1['var37'].isnull().sum())\n",
    "print(df1['var38'].isnull().sum())\n",
    "print(df1['var39'].isnull().sum())\n",
    "print(df1.shape)"
   ]
  },
  {
   "cell_type": "code",
   "execution_count": 10,
   "metadata": {},
   "outputs": [],
   "source": [
    "# for var 36 => mode for imputation\n",
    "df1['var36'].fillna('Video/Internet',inplace = True)\n"
   ]
  },
  {
   "cell_type": "code",
   "execution_count": 11,
   "metadata": {},
   "outputs": [
    {
     "name": "stdout",
     "output_type": "stream",
     "text": [
      "var24  var36                      \n",
      "0.0    Homesecurity Only                0.0\n",
      "       Internet Only                    0.0\n",
      "       Internet/Homesecurity            0.0\n",
      "       Internet/Voice                   0.0\n",
      "       Internet/Voice/Homesecurity      0.0\n",
      "                                      ...  \n",
      "148.0  Internet/Voice                 148.0\n",
      "       Video Only                     148.0\n",
      "       Video/Internet                 148.0\n",
      "       Video/Internet/Homesecurity    148.0\n",
      "       Video/Internet/Voice           148.0\n",
      "Name: var24, Length: 1201, dtype: float64\n"
     ]
    }
   ],
   "source": [
    "# for var24\n",
    "# Count of emails sent (in last 60 Days) where Scherp has been the internet provider\n",
    "types = ['Video/Internet/Voice','Video/Internet','Internet Only','Internet/Voice',\n",
    "         'Video/Internet/Voice/Homesecurity',\n",
    "         'Internet/Homesecurity','Video/Internet/Homesecurity',\n",
    "         'Internet/Voice/Homesecurity']\n",
    "print(df1.groupby(['var24','var36'])['var24'].mean())\n",
    "# imputing with zeros\n",
    "df1['var24'].fillna(0.00,inplace = True)\n",
    "\n"
   ]
  },
  {
   "cell_type": "code",
   "execution_count": 12,
   "metadata": {},
   "outputs": [],
   "source": [
    "df1['var37'].fillna('N',inplace = True)\n"
   ]
  },
  {
   "cell_type": "code",
   "execution_count": 13,
   "metadata": {},
   "outputs": [],
   "source": [
    "df1['var38'].fillna('Other',inplace = True)"
   ]
  },
  {
   "cell_type": "code",
   "execution_count": 14,
   "metadata": {},
   "outputs": [],
   "source": [
    "df1['var39'].fillna('Single Housing', inplace = True)"
   ]
  },
  {
   "cell_type": "code",
   "execution_count": 15,
   "metadata": {},
   "outputs": [
    {
     "name": "stdout",
     "output_type": "stream",
     "text": [
      "0.0      156006\n",
      "1.0       33185\n",
      "20.0      11866\n",
      "21.0      11215\n",
      "14.0       5262\n",
      "          ...  \n",
      "145.0        18\n",
      "148.0        17\n",
      "143.0        16\n",
      "146.0        16\n",
      "135.0        12\n",
      "Name: var24, Length: 149, dtype: int64\n",
      "Video/Internet                       109287\n",
      "Video/Internet/Voice                  98173\n",
      "Internet Only                         63010\n",
      "Video Only                             9195\n",
      "Internet/Voice                         8072\n",
      "Video/Internet/Voice/Homesecurity      5603\n",
      "Video/Internet/Homesecurity            5153\n",
      "Internet/Homesecurity                   714\n",
      "Video/Voice                             359\n",
      "Homesecurity Only                       160\n",
      "Internet/Voice/Homesecurity             154\n",
      "Voice Only                              107\n",
      "Video/Homesecurity                       10\n",
      "Video/Voice/Homesecurity                  3\n",
      "Name: var36, dtype: int64\n",
      "N    295302\n",
      "Y      4698\n",
      "Name: var37, dtype: int64\n",
      "Other           221433\n",
      "Agent            65235\n",
      "Self Service     13332\n",
      "Name: var38, dtype: int64\n",
      "Single Housing     214838\n",
      "Multi Housing       82374\n",
      "Exclude mapping      2209\n",
      "Other                 310\n",
      "Commercial            269\n",
      "Name: var39, dtype: int64\n"
     ]
    }
   ],
   "source": [
    "print(df1['var24'].value_counts())\n",
    "print(df1['var36'].value_counts())\n",
    "print(df1['var37'].value_counts())\n",
    "print(df1['var38'].value_counts())\n",
    "print(df1['var39'].value_counts())"
   ]
  },
  {
   "cell_type": "code",
   "execution_count": 16,
   "metadata": {},
   "outputs": [],
   "source": [
    "# df1.isnull().any()"
   ]
  },
  {
   "cell_type": "code",
   "execution_count": 17,
   "metadata": {},
   "outputs": [],
   "source": [
    "# for i in df1.columns:\n",
    "#     print(df1[i].head(1))"
   ]
  },
  {
   "cell_type": "markdown",
   "metadata": {},
   "source": [
    "## Pandas Profiling"
   ]
  },
  {
   "cell_type": "code",
   "execution_count": 18,
   "metadata": {},
   "outputs": [],
   "source": [
    "# profile = pandas_profiling.ProfileReport(df1)"
   ]
  },
  {
   "cell_type": "code",
   "execution_count": 19,
   "metadata": {},
   "outputs": [],
   "source": [
    "# profile.to_file(output_file=\"eda_round_1.html\")"
   ]
  },
  {
   "cell_type": "code",
   "execution_count": 20,
   "metadata": {},
   "outputs": [],
   "source": [
    "from sklearn.preprocessing import LabelEncoder\n",
    "from sklearn.ensemble import RandomForestClassifier\n",
    "from sklearn.model_selection import train_test_split\n",
    "from sklearn.metrics import classification_report"
   ]
  },
  {
   "cell_type": "markdown",
   "metadata": {},
   "source": [
    "## Random forest classification"
   ]
  },
  {
   "cell_type": "code",
   "execution_count": 21,
   "metadata": {},
   "outputs": [],
   "source": [
    "#Auto encodes any dataframe column of type category or object.\n",
    "def dummyEncode(df):\n",
    "        columnsToEncode = list(df.select_dtypes(include=['category','object']))\n",
    "        le = LabelEncoder()\n",
    "        print (\"sdgad\")\n",
    "        for feature in columnsToEncode:\n",
    "            try:\n",
    "                df[feature] = le.fit_transform(df[feature])\n",
    "                print (feature)\n",
    "                print (le.classes_)\n",
    "                print (\"\\n\")\n",
    "            except:\n",
    "                print('Error encoding '+feature)\n",
    "        return df"
   ]
  },
  {
   "cell_type": "code",
   "execution_count": 22,
   "metadata": {},
   "outputs": [],
   "source": [
    "def splitXY(df):\n",
    "    return [df_encoded.loc[:, 'var1':'var40'], df_encoded[\"self_service_platform\"]]"
   ]
  },
  {
   "cell_type": "code",
   "execution_count": 23,
   "metadata": {},
   "outputs": [
    {
     "name": "stdout",
     "output_type": "stream",
     "text": [
      "sdgad\n",
      "var30\n",
      "['.']\n",
      "\n",
      "\n",
      "var33\n",
      "['entertainment_channel1' 'entertainment_channel2' 'movie_channel1'\n",
      " 'news_channel1' 'news_channel2' 'other']\n",
      "\n",
      "\n",
      "var34\n",
      "['Active' 'Cancelled' 'Inactive' 'Never' 'Pending']\n",
      "\n",
      "\n",
      "var35\n",
      "['CreditCard' 'Electronic Transfer' 'Standard']\n",
      "\n",
      "\n",
      "var36\n",
      "['Homesecurity Only' 'Internet Only' 'Internet/Homesecurity'\n",
      " 'Internet/Voice' 'Internet/Voice/Homesecurity' 'Video Only'\n",
      " 'Video/Homesecurity' 'Video/Internet' 'Video/Internet/Homesecurity'\n",
      " 'Video/Internet/Voice' 'Video/Internet/Voice/Homesecurity' 'Video/Voice'\n",
      " 'Video/Voice/Homesecurity' 'Voice Only']\n",
      "\n",
      "\n",
      "var37\n",
      "['N' 'Y']\n",
      "\n",
      "\n",
      "var38\n",
      "['Agent' 'Other' 'Self Service']\n",
      "\n",
      "\n",
      "var39\n",
      "['Commercial' 'Exclude mapping' 'Multi Housing' 'Other' 'Single Housing']\n",
      "\n",
      "\n",
      "var40\n",
      "['N' 'Y']\n",
      "\n",
      "\n",
      "self_service_platform\n",
      "['Desktop' 'Mobile App' 'Mobile Web' 'STB']\n",
      "\n",
      "\n"
     ]
    }
   ],
   "source": [
    "df_encoded = dummyEncode(df1)"
   ]
  },
  {
   "cell_type": "code",
   "execution_count": 24,
   "metadata": {},
   "outputs": [],
   "source": [
    "X,y=splitXY(df_encoded)\n",
    "X_train, X_test, y_train, y_test = train_test_split(X, y, test_size=0.33, random_state=42)"
   ]
  },
  {
   "cell_type": "code",
   "execution_count": 25,
   "metadata": {},
   "outputs": [
    {
     "data": {
      "text/plain": [
       "50834     3\n",
       "279350    0\n",
       "199412    0\n",
       "85326     1\n",
       "231192    2\n",
       "         ..\n",
       "119879    3\n",
       "259178    1\n",
       "131932    0\n",
       "146867    3\n",
       "121958    2\n",
       "Name: self_service_platform, Length: 201000, dtype: int64"
      ]
     },
     "execution_count": 25,
     "metadata": {},
     "output_type": "execute_result"
    }
   ],
   "source": [
    "y_train"
   ]
  },
  {
   "cell_type": "code",
   "execution_count": 26,
   "metadata": {},
   "outputs": [],
   "source": [
    "clf = RandomForestClassifier(max_depth=5, random_state=0, class_weight=\"balanced\")"
   ]
  },
  {
   "cell_type": "code",
   "execution_count": 27,
   "metadata": {},
   "outputs": [
    {
     "data": {
      "text/plain": [
       "RandomForestClassifier(bootstrap=True, ccp_alpha=0.0, class_weight='balanced',\n",
       "                       criterion='gini', max_depth=5, max_features='auto',\n",
       "                       max_leaf_nodes=None, max_samples=None,\n",
       "                       min_impurity_decrease=0.0, min_impurity_split=None,\n",
       "                       min_samples_leaf=1, min_samples_split=2,\n",
       "                       min_weight_fraction_leaf=0.0, n_estimators=100,\n",
       "                       n_jobs=None, oob_score=False, random_state=0, verbose=0,\n",
       "                       warm_start=False)"
      ]
     },
     "execution_count": 27,
     "metadata": {},
     "output_type": "execute_result"
    }
   ],
   "source": [
    "clf.fit(X_train, y_train)"
   ]
  },
  {
   "cell_type": "code",
   "execution_count": 28,
   "metadata": {},
   "outputs": [
    {
     "name": "stdout",
     "output_type": "stream",
     "text": [
      "[7.83182276e-02 6.93292658e-03 6.03304206e-02 2.16226940e-02\n",
      " 7.31948894e-03 9.04716117e-02 3.07547262e-02 3.83945581e-02\n",
      " 5.96437998e-02 6.78772836e-02 1.50149557e-02 1.62531947e-02\n",
      " 1.53984720e-02 1.94359814e-02 3.96284241e-02 0.00000000e+00\n",
      " 5.44638295e-02 7.29184307e-02 3.48145472e-02 2.56153053e-02\n",
      " 0.00000000e+00 2.30549629e-02 3.72043037e-02 3.89561502e-02\n",
      " 5.02570772e-02 0.00000000e+00 1.46145821e-03 8.22955188e-02\n",
      " 9.23609729e-05 3.26286896e-04 7.01250188e-05 5.31574494e-03\n",
      " 2.05873696e-05 1.11100859e-03 3.33527676e-05 4.59218475e-03]\n"
     ]
    }
   ],
   "source": [
    "print(clf.feature_importances_)"
   ]
  },
  {
   "cell_type": "code",
   "execution_count": 29,
   "metadata": {},
   "outputs": [
    {
     "data": {
      "image/png": "[encoded data removed]",
      "text/plain": [
       "<Figure size 576x396 with 1 Axes>"
      ]
     },
     "metadata": {},
     "output_type": "display_data"
    }
   ],
   "source": [
    "indices = np.argsort(clf.feature_importances_)[::-1]\n",
    "names = [df1.columns[i] for i in indices]\n",
    "\n",
    "plt.bar(range(X.shape[1]), clf.feature_importances_[indices])\n",
    "# Add feature names as x-axis labels\n",
    "plt.xticks(range(X.shape[1]), names, rotation=20, fontsize = 8)\n",
    "# Create plot title\n",
    "plt.title(\"Feature Importance\")\n",
    "# Show plot\n",
    "plt.show()"
   ]
  },
  {
   "cell_type": "code",
   "execution_count": 30,
   "metadata": {},
   "outputs": [
    {
     "name": "stdout",
     "output_type": "stream",
     "text": [
      "0.6744242424242424\n"
     ]
    }
   ],
   "source": [
    "y_pred = clf.predict(X_test)\n",
    "print (clf.score(X_test, y_test))"
   ]
  },
  {
   "cell_type": "code",
   "execution_count": 31,
   "metadata": {},
   "outputs": [
    {
     "name": "stdout",
     "output_type": "stream",
     "text": [
      "              precision    recall  f1-score   support\n",
      "\n",
      "           0       0.80      0.77      0.78     60632\n",
      "           1       0.62      0.50      0.55     18441\n",
      "           2       0.41      0.61      0.49     15892\n",
      "           3       0.59      0.34      0.43      4035\n",
      "\n",
      "    accuracy                           0.67     99000\n",
      "   macro avg       0.60      0.55      0.56     99000\n",
      "weighted avg       0.70      0.67      0.68     99000\n",
      "\n"
     ]
    }
   ],
   "source": [
    "print(classification_report(y_test, y_pred)) # Class balance"
   ]
  },
  {
   "cell_type": "code",
   "execution_count": 32,
   "metadata": {},
   "outputs": [
    {
     "name": "stdout",
     "output_type": "stream",
     "text": [
      "0.710929292929293\n",
      "              precision    recall  f1-score   support\n",
      "\n",
      "           0       0.74      0.90      0.81     60632\n",
      "           1       0.64      0.49      0.55     18441\n",
      "           2       0.63      0.36      0.46     15892\n",
      "           3       0.59      0.23      0.33      4035\n",
      "\n",
      "    accuracy                           0.71     99000\n",
      "   macro avg       0.65      0.50      0.54     99000\n",
      "weighted avg       0.70      0.71      0.69     99000\n",
      "\n"
     ]
    }
   ],
   "source": [
    "clf_1 = RandomForestClassifier(max_depth=5, random_state=0)\n",
    "clf_1.fit(X_train, y_train)\n",
    "y_pred = clf_1.predict(X_test)\n",
    "print (clf_1.score(X_test, y_test))\n",
    "print(classification_report(y_test, y_pred)) # Class not balanced"
   ]
  },
  {
   "cell_type": "code",
   "execution_count": 33,
   "metadata": {},
   "outputs": [
    {
     "name": "stdout",
     "output_type": "stream",
     "text": [
      "0.7367979797979798\n",
      "              precision    recall  f1-score   support\n",
      "\n",
      "           0       0.78      0.88      0.83     60632\n",
      "           1       0.65      0.55      0.60     18441\n",
      "           2       0.63      0.51      0.57     15892\n",
      "           3       0.59      0.33      0.42      4035\n",
      "\n",
      "    accuracy                           0.74     99000\n",
      "   macro avg       0.66      0.57      0.60     99000\n",
      "weighted avg       0.73      0.74      0.73     99000\n",
      "\n"
     ]
    }
   ],
   "source": [
    "clf_1 = RandomForestClassifier(max_depth=10, random_state=0)\n",
    "clf_1.fit(X_train, y_train)\n",
    "y_pred = clf_1.predict(X_test)\n",
    "print (clf_1.score(X_test, y_test))\n",
    "print(classification_report(y_test, y_pred)) # Class not balanced"
   ]
  },
  {
   "cell_type": "code",
   "execution_count": 34,
   "metadata": {},
   "outputs": [
    {
     "name": "stdout",
     "output_type": "stream",
     "text": [
      "0.7376565656565657\n",
      "              precision    recall  f1-score   support\n",
      "\n",
      "           0       0.78      0.88      0.83     60632\n",
      "           1       0.65      0.55      0.60     18441\n",
      "           2       0.63      0.52      0.57     15892\n",
      "           3       0.60      0.33      0.43      4035\n",
      "\n",
      "    accuracy                           0.74     99000\n",
      "   macro avg       0.67      0.57      0.61     99000\n",
      "weighted avg       0.73      0.74      0.73     99000\n",
      "\n"
     ]
    }
   ],
   "source": [
    "clf_1 = RandomForestClassifier(n_estimators=250, max_depth=10, random_state=0)\n",
    "clf_1.fit(X_train, y_train)\n",
    "y_pred = clf_1.predict(X_test)\n",
    "print (clf_1.score(X_test, y_test))\n",
    "print(classification_report(y_test, y_pred)) # Class not balanced"
   ]
  },
  {
   "cell_type": "markdown",
   "metadata": {},
   "source": [
    "## Feature Selection"
   ]
  },
  {
   "cell_type": "code",
   "execution_count": 35,
   "metadata": {},
   "outputs": [],
   "source": [
    "from sklearn.svm import LinearSVC\n",
    "from sklearn.feature_selection import SelectFromModel\n",
    "from sklearn.ensemble import ExtraTreesClassifier"
   ]
  },
  {
   "cell_type": "code",
   "execution_count": 36,
   "metadata": {},
   "outputs": [
    {
     "name": "stdout",
     "output_type": "stream",
     "text": [
      "0.688010101010101\n",
      "              precision    recall  f1-score   support\n",
      "\n",
      "           0       0.73      0.91      0.81     60632\n",
      "           1       0.54      0.46      0.50     18441\n",
      "           2       0.60      0.29      0.39     15892\n",
      "           3       0.60      0.01      0.02      4035\n",
      "\n",
      "    accuracy                           0.69     99000\n",
      "   macro avg       0.62      0.42      0.43     99000\n",
      "weighted avg       0.67      0.69      0.65     99000\n",
      "\n"
     ]
    },
    {
     "name": "stderr",
     "output_type": "stream",
     "text": [
      "/home/kchkumar/.local/lib/python3.6/site-packages/sklearn/svm/_base.py:947: ConvergenceWarning: Liblinear failed to converge, increase the number of iterations.\n",
      "  \"the number of iterations.\", ConvergenceWarning)\n"
     ]
    }
   ],
   "source": [
    "lsvc = LinearSVC(C=0.01, penalty=\"l1\", dual=False).fit(X_train, y_train)\n",
    "y_pred = lsvc.predict(X_test)\n",
    "print (lsvc.score(X_test, y_test))\n",
    "print (classification_report(y_test, y_pred)) # Class not balanced"
   ]
  },
  {
   "cell_type": "code",
   "execution_count": 37,
   "metadata": {},
   "outputs": [],
   "source": [
    "model = SelectFromModel(lsvc, prefit=True)\n",
    "X_train_select = model.transform(X_train)\n",
    "X_test_select = model.transform(X_test)"
   ]
  },
  {
   "cell_type": "code",
   "execution_count": 38,
   "metadata": {},
   "outputs": [
    {
     "name": "stdout",
     "output_type": "stream",
     "text": [
      "0.7292525252525253\n",
      "              precision    recall  f1-score   support\n",
      "\n",
      "           0       0.77      0.88      0.82     60632\n",
      "           1       0.65      0.53      0.58     18441\n",
      "           2       0.63      0.48      0.54     15892\n",
      "           3       0.59      0.32      0.42      4035\n",
      "\n",
      "    accuracy                           0.73     99000\n",
      "   macro avg       0.66      0.55      0.59     99000\n",
      "weighted avg       0.72      0.73      0.72     99000\n",
      "\n"
     ]
    }
   ],
   "source": [
    "clf_1 = RandomForestClassifier(n_estimators=250, max_depth=10, random_state=0)\n",
    "clf_1.fit(X_train_select, y_train)\n",
    "y_pred = clf_1.predict(X_test_select)\n",
    "print (clf_1.score(X_test_select, y_test))\n",
    "print(classification_report(y_test, y_pred)) # Class not balanced"
   ]
  },
  {
   "cell_type": "code",
   "execution_count": 39,
   "metadata": {},
   "outputs": [],
   "source": [
    "clf = ExtraTreesClassifier(n_estimators=50)\n",
    "clf = clf.fit(X, y)\n",
    "model = SelectFromModel(clf, prefit=True)\n",
    "X_train_select = model.transform(X_train)\n",
    "X_test_select = model.transform(X_test)"
   ]
  },
  {
   "cell_type": "code",
   "execution_count": 40,
   "metadata": {},
   "outputs": [
    {
     "name": "stdout",
     "output_type": "stream",
     "text": [
      "0.738030303030303\n",
      "              precision    recall  f1-score   support\n",
      "\n",
      "           0       0.79      0.88      0.83     60632\n",
      "           1       0.65      0.55      0.59     18441\n",
      "           2       0.62      0.53      0.58     15892\n",
      "           3       0.60      0.34      0.43      4035\n",
      "\n",
      "    accuracy                           0.74     99000\n",
      "   macro avg       0.66      0.57      0.61     99000\n",
      "weighted avg       0.73      0.74      0.73     99000\n",
      "\n"
     ]
    }
   ],
   "source": [
    "clf_1 = RandomForestClassifier(n_estimators=250, max_depth=10, random_state=0)\n",
    "clf_1.fit(X_train_select, y_train)\n",
    "y_pred = clf_1.predict(X_test_select)\n",
    "print (clf_1.score(X_test_select, y_test))\n",
    "print(classification_report(y_test, y_pred)) # Class not balanced"
   ]
  },
  {
   "cell_type": "code",
   "execution_count": 47,
   "metadata": {},
   "outputs": [
    {
     "name": "stdout",
     "output_type": "stream",
     "text": [
      "0.7330606060606061\n",
      "              precision    recall  f1-score   support\n",
      "\n",
      "           0       0.80      0.85      0.83     60632\n",
      "           1       0.60      0.58      0.59     18441\n",
      "           2       0.61      0.55      0.58     15892\n",
      "           3       0.60      0.35      0.44      4035\n",
      "\n",
      "    accuracy                           0.73     99000\n",
      "   macro avg       0.65      0.58      0.61     99000\n",
      "weighted avg       0.73      0.73      0.73     99000\n",
      "\n"
     ]
    }
   ],
   "source": [
    "clf_1 = RandomForestClassifier(n_estimators=250, max_depth=10, random_state=0, class_weight=\"balanced\")\n",
    "clf_1.fit(X_train_select, y_train)\n",
    "y_pred = clf_1.predict(X_test_select)\n",
    "print (clf_1.score(X_test_select, y_test))\n",
    "print(classification_report(y_test, y_pred)) # Class not balanced"
   ]
  },
  {
   "cell_type": "markdown",
   "metadata": {},
   "source": [
    "## Xgboost classification"
   ]
  },
  {
   "cell_type": "code",
   "execution_count": 42,
   "metadata": {},
   "outputs": [],
   "source": [
    "# !pip install xgboost\n",
    "import xgboost as xgb\n",
    "from xgboost.sklearn import XGBClassifier\n"
   ]
  },
  {
   "cell_type": "code",
   "execution_count": 43,
   "metadata": {},
   "outputs": [],
   "source": [
    "D_train_select = xgb.DMatrix(X_train_select, label=y_train)\n",
    "D_test_select = xgb.DMatrix(X_test_select, label=y_test)"
   ]
  },
  {
   "cell_type": "code",
   "execution_count": 44,
   "metadata": {},
   "outputs": [],
   "source": [
    "D_train = xgb.DMatrix(X_train_select, label=y_train)\n",
    "D_test = xgb.DMatrix(X_test_select, label=y_test)"
   ]
  },
  {
   "cell_type": "code",
   "execution_count": 45,
   "metadata": {},
   "outputs": [],
   "source": [
    "xgb4 = XGBClassifier(\n",
    " learning_rate =0.01,\n",
    " n_estimators=5000,\n",
    " max_depth=4,\n",
    " min_child_weight=6,\n",
    " gamma=0,\n",
    " subsample=0.8,\n",
    " colsample_bytree=0.8,\n",
    " reg_alpha=0.005,\n",
    " objective= 'multi:softprob',\n",
    " nthread=4,\n",
    " scale_pos_weight=1,\n",
    " seed=27)"
   ]
  },
  {
   "cell_type": "code",
   "execution_count": 46,
   "metadata": {},
   "outputs": [
    {
     "data": {
      "text/plain": [
       "XGBClassifier(base_score=0.5, booster=None, colsample_bylevel=1,\n",
       "              colsample_bynode=1, colsample_bytree=0.8, gamma=0, gpu_id=-1,\n",
       "              importance_type='gain', interaction_constraints=None,\n",
       "              learning_rate=0.01, max_delta_step=0, max_depth=4,\n",
       "              min_child_weight=6, missing=nan, monotone_constraints=None,\n",
       "              n_estimators=5000, n_jobs=4, nthread=4, num_parallel_tree=1,\n",
       "              objective='multi:softprob', random_state=27, reg_alpha=0.005,\n",
       "              reg_lambda=1, scale_pos_weight=1, seed=27, subsample=0.8,\n",
       "              tree_method=None, validate_parameters=False, verbosity=None)"
      ]
     },
     "execution_count": 46,
     "metadata": {},
     "output_type": "execute_result"
    }
   ],
   "source": [
    "xgb4.fit(X_train_select, y_train)"
   ]
  },
  {
   "cell_type": "code",
   "execution_count": 48,
   "metadata": {},
   "outputs": [
    {
     "name": "stdout",
     "output_type": "stream",
     "text": [
      "0.7402929292929293\n",
      "              precision    recall  f1-score   support\n",
      "\n",
      "           0       0.79      0.87      0.83     60632\n",
      "           1       0.64      0.57      0.60     18441\n",
      "           2       0.62      0.54      0.58     15892\n",
      "           3       0.60      0.34      0.44      4035\n",
      "\n",
      "    accuracy                           0.74     99000\n",
      "   macro avg       0.66      0.58      0.61     99000\n",
      "weighted avg       0.73      0.74      0.73     99000\n",
      "\n"
     ]
    }
   ],
   "source": [
    "y_pred = xgb4.predict(X_test_select)\n",
    "print (xgb4.score(X_test_select, y_test))\n",
    "print(classification_report(y_test, y_pred)) # Class not balanced"
   ]
  },
  {
   "cell_type": "markdown",
   "metadata": {},
   "source": [
    "## Hyperparameter : HyperOpt"
   ]
  },
  {
   "cell_type": "code",
   "execution_count": null,
   "metadata": {},
   "outputs": [
    {
     "name": "stdout",
     "output_type": "stream",
     "text": [
      "CrossValMean:                                         \n",
      "0.743407960199005                                       \n",
      "CrossValMean:                                                                         \n",
      "0.7429601990049751                                                                    \n",
      "CrossValMean:                                                                         \n",
      "0.7433134328358209                                                                    \n",
      "CrossValMean:                                                                         \n",
      "0.742139303482587                                                                     \n",
      "CrossValMean:                                                                         \n",
      "0.7369900497512438                                                                     \n",
      "CrossValMean:                                                                          \n",
      "0.7223930348258707                                                                     \n",
      "CrossValMean:                                                                            \n",
      "0.7397611940298507                                                                       \n",
      "CrossValMean:                                                                            \n",
      "0.7283880597014925                                                                     \n",
      "CrossValMean:                                                                           \n",
      "0.7330945273631841                                                                      \n",
      "CrossValMean:                                                                           \n",
      "0.7433482587064677                                                                     \n",
      "CrossValMean:                                                                            \n",
      "0.7413233830845771                                                                       \n",
      "CrossValMean:                                                                            \n",
      "0.7371741293532338                                                                      \n",
      "CrossValMean:                                                                             \n",
      "0.7402587064676617                                                                        \n",
      "CrossValMean:                                                                             \n",
      "0.7400398009950249                                                                        \n",
      "CrossValMean:                                                                             \n",
      "0.7372288557213931                                                                      \n",
      "CrossValMean:                                                                            \n",
      "0.7356119402985074                                                                       \n",
      "CrossValMean:                                                                             \n",
      "0.743592039800995                                                                         \n",
      "CrossValMean:                                                                             \n",
      "0.744412935323383                                                                         \n",
      "CrossValMean:                                                                             \n",
      "0.7381194029850746                                                                        \n",
      "CrossValMean:                                                                             \n",
      "0.7383482587064677                                                                        \n",
      "CrossValMean:                                                                             \n",
      "0.7434825870646766                                                                        \n",
      "CrossValMean:                                                                               \n",
      "0.7444577114427859                                                                          \n",
      "CrossValMean:                                                                               \n",
      "0.7410199004975124                                                                          \n",
      "CrossValMean:                                                                               \n",
      "0.7387512437810946                                                                          \n",
      "CrossValMean:                                                                               \n",
      "0.7433333333333334                                                                          \n",
      "CrossValMean:                                                                               \n",
      "0.7441890547263682                                                                           \n",
      "CrossValMean:                                                                                \n",
      "0.7418109452736317                                                                           \n",
      "CrossValMean:                                                                                \n",
      "0.74118407960199                                                                             \n",
      "CrossValMean:                                                                                \n",
      "0.7378358208955224                                                                           \n",
      "CrossValMean:                                                                                \n",
      "0.7444378109452736                                                                           \n",
      "CrossValMean:                                                                                \n",
      "0.7446865671641791                                                                           \n",
      "CrossValMean:                                                                                \n",
      "0.7446616915422886                                                                           \n",
      "CrossValMean:                                                                                \n",
      "0.7410646766169153                                                                           \n",
      "CrossValMean:                                                                                \n",
      "0.7447562189054727                                                                           \n",
      "CrossValMean:                                                                                \n",
      "0.7445970149253732                                                                          \n",
      "CrossValMean:                                                                               \n",
      "0.7445273631840796                                                                          \n",
      "CrossValMean:                                                                               \n",
      "0.7374179104477612                                                                         \n",
      "CrossValMean:                                                                               \n",
      "0.7447810945273632                                                                          \n",
      "CrossValMean:                                                                               \n",
      "0.745363184079602                                                                           \n",
      "CrossValMean:                                                                               \n",
      "0.7386766169154229                                                                        \n",
      "CrossValMean:                                                                             \n",
      "0.7451990049751245                                                                        \n",
      "CrossValMean:                                                                             \n",
      "0.7449253731343284                                                                        \n",
      "CrossValMean:                                                                             \n",
      "0.7403880597014925                                                                        \n",
      "CrossValMean:                                                                             \n",
      "0.743960199004975                                                                         \n",
      "CrossValMean:                                                                             \n",
      "0.7418955223880598                                                                        \n",
      "CrossValMean:                                                                             \n",
      "0.7433781094527363                                                                        \n",
      "CrossValMean:                                                                             \n",
      "0.7440845771144278                                                                        \n",
      "CrossValMean:                                                                             \n",
      "0.738313432835821                                                                         \n",
      "CrossValMean:                                                                             \n",
      "0.7434228855721392                                                                        \n",
      " 98%|█████████▊| 49/50 [267:38:13<7:16:34, 26194.96s/trial, best loss: 0.254636815920398] "
     ]
    }
   ],
   "source": [
    "from __future__ import print_function\n",
    "import warnings\n",
    "\n",
    "import numpy as np\n",
    "import matplotlib.pyplot as plt\n",
    "import pandas as pd\n",
    "\n",
    "from sklearn.preprocessing import LabelEncoder\n",
    "from hyperopt import Trials, STATUS_OK, tpe, hp, fmin\n",
    "import xgboost as xgb\n",
    "\n",
    "\n",
    "def objective(space):\n",
    "\n",
    "    warnings.filterwarnings(action='ignore', category=DeprecationWarning)\n",
    "    classifier = xgb.XGBClassifier(n_estimators = space['n_estimators'],\n",
    "                            max_depth = int(space['max_depth']),\n",
    "                            learning_rate = space['learning_rate'],\n",
    "                            min_child_weight = space['min_child_weight'],\n",
    "                            subsample = space['subsample'],\n",
    "                            colsample_bytree = space['colsample_bytree']\n",
    "                            )\n",
    "    \n",
    "    classifier.fit(X_train_select, y_train)\n",
    "\n",
    "    # Applying k-Fold Cross Validation\n",
    "    from sklearn.model_selection import cross_val_score\n",
    "    accuracies = cross_val_score(estimator = classifier, X = X_train_select, y = y_train, cv = 10)\n",
    "    CrossValMean = accuracies.mean()\n",
    "\n",
    "    print(\"CrossValMean:\", CrossValMean)\n",
    "\n",
    "    return{'loss':1-CrossValMean, 'status': STATUS_OK }\n",
    "\n",
    "space = {\n",
    "    'learning_rate':    hp.choice('learning_rate',    np.arange(0.05, 0.2, 0.05)),\n",
    "    'max_depth':        hp.choice('max_depth',        np.arange(5, 16, 1, dtype=int)),\n",
    "    'min_child_weight': hp.choice('min_child_weight', np.arange(1, 8, 1, dtype=int)),\n",
    "    'colsample_bytree': hp.choice('colsample_bytree', np.arange(0.3, 0.8, 0.1)),\n",
    "    'subsample':        hp.uniform('subsample', 0.8, 1),\n",
    "    'n_estimators':     hp.choice('n_estimators', range(1000,4500,500))\n",
    "}\n",
    "\n",
    "trials = Trials()\n",
    "best = fmin(fn=objective,\n",
    "            space=space,\n",
    "            algo=tpe.suggest,\n",
    "            max_evals=50,\n",
    "            trials=trials)\n",
    "\n",
    "print(\"Best: \", best)\n",
    "\n",
    "\n",
    "# Fitting XGBoost to the Training set\n",
    "from xgboost import XGBClassifier\n",
    "classifier = XGBClassifier(n_estimators = best['n_estimators'],\n",
    "                            max_depth = best['max_depth'],\n",
    "                            learning_rate = best['learning_rate'],\n",
    "                            gamma = best['gamma'],\n",
    "                            min_child_weight = best['min_child_weight'],\n",
    "                            subsample = best['subsample'],\n",
    "                            colsample_bytree = best['colsample_bytree']\n",
    "                            )\n",
    "\n",
    "classifier.fit(X_train_select, y_train)\n",
    "\n",
    "# Applying k-Fold Cross Validation\n",
    "from sklearn.model_selection import cross_val_score\n",
    "accuracies = cross_val_score(estimator = classifier, X = X_train_select, y = y_train, cv = 10)\n",
    "CrossValMean = accuracies.mean()\n",
    "print(\"Final CrossValMean: \", CrossValMean)\n",
    "\n",
    "CrossValSTD = accuracies.std()\n",
    "\n",
    "# Predicting the Test set results\n",
    "y_pred = classifier.predict(X_test_select)\n",
    "print (classifier.score(X_test_select, y_test))\n",
    "print(classification_report(y_test, y_pred)) # Class not balanced"
   ]
  },
  {
   "cell_type": "code",
   "execution_count": null,
   "metadata": {},
   "outputs": [],
   "source": []
  }
 ],
 "metadata": {
  "kernelspec": {
   "display_name": "Python 3",
   "language": "python",
   "name": "python3"
  },
  "language_info": {
   "codemirror_mode": {
    "name": "ipython",
    "version": 3
   },
   "file_extension": ".py",
   "mimetype": "text/x-python",
   "name": "python",
   "nbconvert_exporter": "python",
   "pygments_lexer": "ipython3",
   "version": "3.6.9"
  }
 },
 "nbformat": 4,
 "nbformat_minor": 4
}
