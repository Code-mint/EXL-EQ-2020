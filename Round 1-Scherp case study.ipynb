{
 "cells": [
  {
   "cell_type": "code",
   "execution_count": 4,
   "metadata": {},
   "outputs": [],
   "source": [
    "import pandas as pd\n",
    "import pandas_profiling\n",
    "import numpy as np\n",
    "from pyxlsb import open_workbook"
   ]
  },
  {
   "cell_type": "code",
   "execution_count": 93,
   "metadata": {},
   "outputs": [
    {
     "ename": "KeyboardInterrupt",
     "evalue": "",
     "output_type": "error",
     "traceback": [
      "\u001b[0;31m---------------------------------------------------------------------------\u001b[0m",
      "\u001b[0;31mKeyboardInterrupt\u001b[0m                         Traceback (most recent call last)",
      "\u001b[0;32m<ipython-input-93-4fd7a443ed87>\u001b[0m in \u001b[0;36m<module>\u001b[0;34m\u001b[0m\n\u001b[1;32m      2\u001b[0m \u001b[0;32mwith\u001b[0m \u001b[0mopen_workbook\u001b[0m\u001b[0;34m(\u001b[0m\u001b[0;34m'EXL_EQ_2020_Train_datasets.xlsb'\u001b[0m\u001b[0;34m)\u001b[0m \u001b[0;32mas\u001b[0m \u001b[0mwb\u001b[0m\u001b[0;34m:\u001b[0m\u001b[0;34m\u001b[0m\u001b[0;34m\u001b[0m\u001b[0m\n\u001b[1;32m      3\u001b[0m     \u001b[0;32mwith\u001b[0m \u001b[0mwb\u001b[0m\u001b[0;34m.\u001b[0m\u001b[0mget_sheet\u001b[0m\u001b[0;34m(\u001b[0m\u001b[0;34m'Train Sample'\u001b[0m\u001b[0;34m)\u001b[0m \u001b[0;32mas\u001b[0m \u001b[0msheet\u001b[0m\u001b[0;34m:\u001b[0m\u001b[0;34m\u001b[0m\u001b[0;34m\u001b[0m\u001b[0m\n\u001b[0;32m----> 4\u001b[0;31m         \u001b[0;32mfor\u001b[0m \u001b[0mrow\u001b[0m \u001b[0;32min\u001b[0m \u001b[0msheet\u001b[0m\u001b[0;34m.\u001b[0m\u001b[0mrows\u001b[0m\u001b[0;34m(\u001b[0m\u001b[0;34m)\u001b[0m\u001b[0;34m:\u001b[0m\u001b[0;34m\u001b[0m\u001b[0;34m\u001b[0m\u001b[0m\n\u001b[0m\u001b[1;32m      5\u001b[0m             \u001b[0mdf\u001b[0m\u001b[0;34m.\u001b[0m\u001b[0mappend\u001b[0m\u001b[0;34m(\u001b[0m\u001b[0;34m[\u001b[0m\u001b[0mitem\u001b[0m\u001b[0;34m.\u001b[0m\u001b[0mv\u001b[0m \u001b[0;32mfor\u001b[0m \u001b[0mitem\u001b[0m \u001b[0;32min\u001b[0m \u001b[0mrow\u001b[0m\u001b[0;34m]\u001b[0m\u001b[0;34m)\u001b[0m\u001b[0;34m\u001b[0m\u001b[0;34m\u001b[0m\u001b[0m\n\u001b[1;32m      6\u001b[0m \u001b[0;34m\u001b[0m\u001b[0m\n",
      "\u001b[0;32m/opt/anaconda3/envs/tf/lib/python3.6/site-packages/pyxlsb/worksheet.py\u001b[0m in \u001b[0;36mrows\u001b[0;34m(self, sparse)\u001b[0m\n\u001b[1;32m     74\u001b[0m           \u001b[0mrow\u001b[0m\u001b[0;34m[\u001b[0m\u001b[0mitem\u001b[0m\u001b[0;34m[\u001b[0m\u001b[0;36m1\u001b[0m\u001b[0;34m]\u001b[0m\u001b[0;34m.\u001b[0m\u001b[0mc\u001b[0m\u001b[0;34m]\u001b[0m \u001b[0;34m=\u001b[0m \u001b[0mCell\u001b[0m\u001b[0;34m(\u001b[0m\u001b[0mrow_num\u001b[0m\u001b[0;34m,\u001b[0m \u001b[0mitem\u001b[0m\u001b[0;34m[\u001b[0m\u001b[0;36m1\u001b[0m\u001b[0;34m]\u001b[0m\u001b[0;34m.\u001b[0m\u001b[0mc\u001b[0m\u001b[0;34m,\u001b[0m \u001b[0mself\u001b[0m\u001b[0;34m.\u001b[0m\u001b[0m_stringtable\u001b[0m\u001b[0;34m[\u001b[0m\u001b[0mitem\u001b[0m\u001b[0;34m[\u001b[0m\u001b[0;36m1\u001b[0m\u001b[0;34m]\u001b[0m\u001b[0;34m.\u001b[0m\u001b[0mv\u001b[0m\u001b[0;34m]\u001b[0m\u001b[0;34m)\u001b[0m\u001b[0;34m\u001b[0m\u001b[0;34m\u001b[0m\u001b[0m\n\u001b[1;32m     75\u001b[0m         \u001b[0;32melse\u001b[0m\u001b[0;34m:\u001b[0m\u001b[0;34m\u001b[0m\u001b[0;34m\u001b[0m\u001b[0m\n\u001b[0;32m---> 76\u001b[0;31m           \u001b[0mrow\u001b[0m\u001b[0;34m[\u001b[0m\u001b[0mitem\u001b[0m\u001b[0;34m[\u001b[0m\u001b[0;36m1\u001b[0m\u001b[0;34m]\u001b[0m\u001b[0;34m.\u001b[0m\u001b[0mc\u001b[0m\u001b[0;34m]\u001b[0m \u001b[0;34m=\u001b[0m \u001b[0mCell\u001b[0m\u001b[0;34m(\u001b[0m\u001b[0mrow_num\u001b[0m\u001b[0;34m,\u001b[0m \u001b[0mitem\u001b[0m\u001b[0;34m[\u001b[0m\u001b[0;36m1\u001b[0m\u001b[0;34m]\u001b[0m\u001b[0;34m.\u001b[0m\u001b[0mc\u001b[0m\u001b[0;34m,\u001b[0m \u001b[0mitem\u001b[0m\u001b[0;34m[\u001b[0m\u001b[0;36m1\u001b[0m\u001b[0;34m]\u001b[0m\u001b[0;34m.\u001b[0m\u001b[0mv\u001b[0m\u001b[0;34m)\u001b[0m\u001b[0;34m\u001b[0m\u001b[0;34m\u001b[0m\u001b[0m\n\u001b[0m\u001b[1;32m     77\u001b[0m       \u001b[0;32melif\u001b[0m \u001b[0mitem\u001b[0m\u001b[0;34m[\u001b[0m\u001b[0;36m0\u001b[0m\u001b[0;34m]\u001b[0m \u001b[0;34m==\u001b[0m \u001b[0mbiff12\u001b[0m\u001b[0;34m.\u001b[0m\u001b[0mSHEETDATA_END\u001b[0m\u001b[0;34m:\u001b[0m\u001b[0;34m\u001b[0m\u001b[0;34m\u001b[0m\u001b[0m\n\u001b[1;32m     78\u001b[0m         \u001b[0;32mif\u001b[0m \u001b[0mrow\u001b[0m \u001b[0;32mis\u001b[0m \u001b[0;32mnot\u001b[0m \u001b[0;32mNone\u001b[0m\u001b[0;34m:\u001b[0m\u001b[0;34m\u001b[0m\u001b[0;34m\u001b[0m\u001b[0m\n",
      "\u001b[0;32m<string>\u001b[0m in \u001b[0;36m__new__\u001b[0;34m(_cls, r, c, v)\u001b[0m\n",
      "\u001b[0;31mKeyboardInterrupt\u001b[0m: "
     ]
    }
   ],
   "source": [
    "df=[]\n",
    "with open_workbook('EXL_EQ_2020_Train_datasets.xlsb') as wb:\n",
    "    with wb.get_sheet('Train Sample') as sheet:\n",
    "        for row in sheet.rows():\n",
    "            df.append([item.v for item in row])\n",
    "\n",
    "df1 = pd.DataFrame(df[1:], columns=df[0])"
   ]
  },
  {
   "cell_type": "code",
   "execution_count": 94,
   "metadata": {},
   "outputs": [
    {
     "data": {
      "text/html": [
       "<div>\n",
       "<style scoped>\n",
       "    .dataframe tbody tr th:only-of-type {\n",
       "        vertical-align: middle;\n",
       "    }\n",
       "\n",
       "    .dataframe tbody tr th {\n",
       "        vertical-align: top;\n",
       "    }\n",
       "\n",
       "    .dataframe thead th {\n",
       "        text-align: right;\n",
       "    }\n",
       "</style>\n",
       "<table border=\"1\" class=\"dataframe\">\n",
       "  <thead>\n",
       "    <tr style=\"text-align: right;\">\n",
       "      <th></th>\n",
       "      <th>cust_id</th>\n",
       "      <th>var1</th>\n",
       "      <th>var2</th>\n",
       "      <th>var3</th>\n",
       "      <th>var4</th>\n",
       "      <th>var5</th>\n",
       "      <th>var6</th>\n",
       "      <th>var7</th>\n",
       "      <th>var8</th>\n",
       "      <th>var9</th>\n",
       "      <th>...</th>\n",
       "      <th>var32</th>\n",
       "      <th>var33</th>\n",
       "      <th>var34</th>\n",
       "      <th>var35</th>\n",
       "      <th>var36</th>\n",
       "      <th>var37</th>\n",
       "      <th>var38</th>\n",
       "      <th>var39</th>\n",
       "      <th>var40</th>\n",
       "      <th>self_service_platform</th>\n",
       "    </tr>\n",
       "  </thead>\n",
       "  <tbody>\n",
       "    <tr>\n",
       "      <th>0</th>\n",
       "      <td>100001.0</td>\n",
       "      <td>2667.0</td>\n",
       "      <td>0.0</td>\n",
       "      <td>0.0</td>\n",
       "      <td>1768.0</td>\n",
       "      <td>0.0</td>\n",
       "      <td>4.0</td>\n",
       "      <td>0.0</td>\n",
       "      <td>2.0</td>\n",
       "      <td>291016.0</td>\n",
       "      <td>...</td>\n",
       "      <td>0.0</td>\n",
       "      <td>5</td>\n",
       "      <td>2</td>\n",
       "      <td>2</td>\n",
       "      <td>9</td>\n",
       "      <td>0</td>\n",
       "      <td>1</td>\n",
       "      <td>4</td>\n",
       "      <td>0</td>\n",
       "      <td>0</td>\n",
       "    </tr>\n",
       "    <tr>\n",
       "      <th>1</th>\n",
       "      <td>100002.0</td>\n",
       "      <td>435.0</td>\n",
       "      <td>0.0</td>\n",
       "      <td>0.0</td>\n",
       "      <td>515.0</td>\n",
       "      <td>0.0</td>\n",
       "      <td>3.0</td>\n",
       "      <td>0.0</td>\n",
       "      <td>0.0</td>\n",
       "      <td>137667.0</td>\n",
       "      <td>...</td>\n",
       "      <td>0.0</td>\n",
       "      <td>5</td>\n",
       "      <td>3</td>\n",
       "      <td>2</td>\n",
       "      <td>7</td>\n",
       "      <td>0</td>\n",
       "      <td>1</td>\n",
       "      <td>4</td>\n",
       "      <td>0</td>\n",
       "      <td>0</td>\n",
       "    </tr>\n",
       "    <tr>\n",
       "      <th>2</th>\n",
       "      <td>100003.0</td>\n",
       "      <td>1520.0</td>\n",
       "      <td>0.0</td>\n",
       "      <td>0.0</td>\n",
       "      <td>2280.0</td>\n",
       "      <td>0.0</td>\n",
       "      <td>6.0</td>\n",
       "      <td>0.0</td>\n",
       "      <td>4.0</td>\n",
       "      <td>301567.0</td>\n",
       "      <td>...</td>\n",
       "      <td>0.0</td>\n",
       "      <td>5</td>\n",
       "      <td>2</td>\n",
       "      <td>2</td>\n",
       "      <td>9</td>\n",
       "      <td>0</td>\n",
       "      <td>0</td>\n",
       "      <td>4</td>\n",
       "      <td>1</td>\n",
       "      <td>0</td>\n",
       "    </tr>\n",
       "    <tr>\n",
       "      <th>3</th>\n",
       "      <td>100004.0</td>\n",
       "      <td>4393.0</td>\n",
       "      <td>0.0</td>\n",
       "      <td>1.0</td>\n",
       "      <td>5731.0</td>\n",
       "      <td>0.0</td>\n",
       "      <td>8.0</td>\n",
       "      <td>1.0</td>\n",
       "      <td>27.0</td>\n",
       "      <td>436735.0</td>\n",
       "      <td>...</td>\n",
       "      <td>1.0</td>\n",
       "      <td>5</td>\n",
       "      <td>0</td>\n",
       "      <td>2</td>\n",
       "      <td>1</td>\n",
       "      <td>0</td>\n",
       "      <td>1</td>\n",
       "      <td>4</td>\n",
       "      <td>0</td>\n",
       "      <td>0</td>\n",
       "    </tr>\n",
       "    <tr>\n",
       "      <th>4</th>\n",
       "      <td>100005.0</td>\n",
       "      <td>3587.0</td>\n",
       "      <td>0.0</td>\n",
       "      <td>0.0</td>\n",
       "      <td>2493.0</td>\n",
       "      <td>0.0</td>\n",
       "      <td>7.0</td>\n",
       "      <td>0.0</td>\n",
       "      <td>7.0</td>\n",
       "      <td>314970.0</td>\n",
       "      <td>...</td>\n",
       "      <td>0.0</td>\n",
       "      <td>2</td>\n",
       "      <td>3</td>\n",
       "      <td>2</td>\n",
       "      <td>1</td>\n",
       "      <td>0</td>\n",
       "      <td>1</td>\n",
       "      <td>2</td>\n",
       "      <td>0</td>\n",
       "      <td>3</td>\n",
       "    </tr>\n",
       "  </tbody>\n",
       "</table>\n",
       "<p>5 rows × 38 columns</p>\n",
       "</div>"
      ],
      "text/plain": [
       "    cust_id    var1  var2  var3    var4  var5  var6  var7  var8      var9  \\\n",
       "0  100001.0  2667.0   0.0   0.0  1768.0   0.0   4.0   0.0   2.0  291016.0   \n",
       "1  100002.0   435.0   0.0   0.0   515.0   0.0   3.0   0.0   0.0  137667.0   \n",
       "2  100003.0  1520.0   0.0   0.0  2280.0   0.0   6.0   0.0   4.0  301567.0   \n",
       "3  100004.0  4393.0   0.0   1.0  5731.0   0.0   8.0   1.0  27.0  436735.0   \n",
       "4  100005.0  3587.0   0.0   0.0  2493.0   0.0   7.0   0.0   7.0  314970.0   \n",
       "\n",
       "   ...  var32  var33  var34  var35  var36  var37  var38  var39  var40  \\\n",
       "0  ...    0.0      5      2      2      9      0      1      4      0   \n",
       "1  ...    0.0      5      3      2      7      0      1      4      0   \n",
       "2  ...    0.0      5      2      2      9      0      0      4      1   \n",
       "3  ...    1.0      5      0      2      1      0      1      4      0   \n",
       "4  ...    0.0      2      3      2      1      0      1      2      0   \n",
       "\n",
       "   self_service_platform  \n",
       "0                      0  \n",
       "1                      0  \n",
       "2                      0  \n",
       "3                      0  \n",
       "4                      3  \n",
       "\n",
       "[5 rows x 38 columns]"
      ]
     },
     "execution_count": 94,
     "metadata": {},
     "output_type": "execute_result"
    }
   ],
   "source": [
    "df1.head()"
   ]
  },
  {
   "cell_type": "code",
   "execution_count": 95,
   "metadata": {},
   "outputs": [
    {
     "data": {
      "text/plain": [
       "(300000, 38)"
      ]
     },
     "execution_count": 95,
     "metadata": {},
     "output_type": "execute_result"
    }
   ],
   "source": [
    "df1.shape"
   ]
  },
  {
   "cell_type": "code",
   "execution_count": 96,
   "metadata": {},
   "outputs": [
    {
     "name": "stdout",
     "output_type": "stream",
     "text": [
      "0    100001.0\n",
      "Name: cust_id, dtype: float64\n",
      "0    2667.0\n",
      "Name: var1, dtype: float64\n",
      "0    0.0\n",
      "Name: var2, dtype: float64\n",
      "0    0.0\n",
      "Name: var3, dtype: float64\n",
      "0    1768.0\n",
      "Name: var4, dtype: float64\n",
      "0    0.0\n",
      "Name: var5, dtype: float64\n",
      "0    4.0\n",
      "Name: var6, dtype: float64\n",
      "0    0.0\n",
      "Name: var7, dtype: float64\n",
      "0    2.0\n",
      "Name: var8, dtype: float64\n",
      "0    291016.0\n",
      "Name: var9, dtype: float64\n",
      "0    0.0\n",
      "Name: var10, dtype: float64\n",
      "0    0.0\n",
      "Name: var11, dtype: float64\n",
      "0    109.0\n",
      "Name: var12, dtype: float64\n",
      "0    447.0\n",
      "Name: var13, dtype: float64\n",
      "0    0.0\n",
      "Name: var14, dtype: float64\n",
      "0    161.0\n",
      "Name: var15, dtype: float64\n",
      "0    0.0\n",
      "Name: var16, dtype: float64\n",
      "0    9.0\n",
      "Name: var21, dtype: float64\n",
      "0    85287.0\n",
      "Name: var22, dtype: float64\n",
      "0    27.0\n",
      "Name: var23, dtype: float64\n",
      "0    0.0\n",
      "Name: var24, dtype: float64\n",
      "0    0.0\n",
      "Name: var25, dtype: float64\n",
      "0    4.0\n",
      "Name: var26, dtype: float64\n",
      "0    153.0\n",
      "Name: var27, dtype: float64\n",
      "0    0.0\n",
      "Name: var28, dtype: float64\n",
      "0    0.0\n",
      "Name: var29, dtype: float64\n",
      "0    0\n",
      "Name: var30, dtype: int64\n",
      "0    0.0\n",
      "Name: var31, dtype: float64\n",
      "0    0.0\n",
      "Name: var32, dtype: float64\n",
      "0    5\n",
      "Name: var33, dtype: int64\n",
      "0    2\n",
      "Name: var34, dtype: int64\n",
      "0    2\n",
      "Name: var35, dtype: int64\n",
      "0    9\n",
      "Name: var36, dtype: int64\n",
      "0    0\n",
      "Name: var37, dtype: int64\n",
      "0    1\n",
      "Name: var38, dtype: int64\n",
      "0    4\n",
      "Name: var39, dtype: int64\n",
      "0    0\n",
      "Name: var40, dtype: int64\n",
      "0    0\n",
      "Name: self_service_platform, dtype: int64\n"
     ]
    }
   ],
   "source": [
    "for i in df1.columns:\n",
    "    print(df1[i].head(1))"
   ]
  },
  {
   "cell_type": "code",
   "execution_count": 97,
   "metadata": {},
   "outputs": [
    {
     "name": "stdout",
     "output_type": "stream",
     "text": [
      "0    300000\n",
      "Name: var30, dtype: int64\n",
      "5    272972\n",
      "3      8285\n",
      "4      6062\n",
      "0      5563\n",
      "1      4904\n",
      "2      2214\n",
      "Name: var33, dtype: int64\n",
      "3    105758\n",
      "4    104447\n",
      "0     48580\n",
      "2     34526\n",
      "1      6689\n",
      "Name: var34, dtype: int64\n",
      "2    283150\n",
      "0     10127\n",
      "1      6723\n",
      "Name: var35, dtype: int64\n",
      "7     109287\n",
      "9      98173\n",
      "1      63010\n",
      "5       9195\n",
      "3       8072\n",
      "10      5603\n",
      "8       5153\n",
      "2        714\n",
      "11       359\n",
      "0        160\n",
      "4        154\n",
      "13       107\n",
      "6         10\n",
      "12         3\n",
      "Name: var36, dtype: int64\n",
      "0    295302\n",
      "1      4698\n",
      "Name: var37, dtype: int64\n",
      "1    221433\n",
      "0     65235\n",
      "2     13332\n",
      "Name: var38, dtype: int64\n",
      "4    214838\n",
      "2     82374\n",
      "1      2209\n",
      "3       310\n",
      "0       269\n",
      "Name: var39, dtype: int64\n",
      "0    170475\n",
      "1    129525\n",
      "Name: var40, dtype: int64\n",
      "0    184194\n",
      "1     55595\n",
      "2     48063\n",
      "3     12148\n",
      "Name: self_service_platform, dtype: int64\n"
     ]
    }
   ],
   "source": [
    "# for text columns\n",
    "print(df1['var30'].value_counts())\n",
    "print(df1['var33'].value_counts())\n",
    "print(df1['var34'].value_counts())\n",
    "print(df1['var35'].value_counts())\n",
    "print(df1['var36'].value_counts()) #na\n",
    "print(df1['var37'].value_counts()) #na\n",
    "print(df1['var38'].value_counts()) #na\n",
    "print(df1['var39'].value_counts()) #na\n",
    "print(df1['var40'].value_counts())\n",
    "print(df1['self_service_platform'].value_counts())"
   ]
  },
  {
   "cell_type": "code",
   "execution_count": 98,
   "metadata": {},
   "outputs": [
    {
     "data": {
      "text/plain": [
       "cust_id                  False\n",
       "var1                     False\n",
       "var2                     False\n",
       "var3                     False\n",
       "var4                     False\n",
       "var5                     False\n",
       "var6                     False\n",
       "var7                     False\n",
       "var8                     False\n",
       "var9                     False\n",
       "var10                    False\n",
       "var11                    False\n",
       "var12                    False\n",
       "var13                    False\n",
       "var14                    False\n",
       "var15                    False\n",
       "var16                    False\n",
       "var21                    False\n",
       "var22                    False\n",
       "var23                    False\n",
       "var24                    False\n",
       "var25                    False\n",
       "var26                    False\n",
       "var27                    False\n",
       "var28                    False\n",
       "var29                    False\n",
       "var30                    False\n",
       "var31                    False\n",
       "var32                    False\n",
       "var33                    False\n",
       "var34                    False\n",
       "var35                    False\n",
       "var36                    False\n",
       "var37                    False\n",
       "var38                    False\n",
       "var39                    False\n",
       "var40                    False\n",
       "self_service_platform    False\n",
       "dtype: bool"
      ]
     },
     "execution_count": 98,
     "metadata": {},
     "output_type": "execute_result"
    }
   ],
   "source": [
    "df1.isnull().any()"
   ]
  },
  {
   "cell_type": "code",
   "execution_count": 99,
   "metadata": {},
   "outputs": [
    {
     "name": "stdout",
     "output_type": "stream",
     "text": [
      "[  0.  20.  33.   7.  30.   3.  21.  42. 117.   8.   1.  13. 112.  14.\n",
      "   2.  17.  35.  37.  27.  28.  50.  67.  31.  40.  34.   4. 106.  16.\n",
      "  41.  47.  74.  52.  64.  39.   9.  60.  59.  12.  19.  43.  68. 132.\n",
      "  15.  11.  81.  25.  92.   5.  26.  82.  18.  45.  53.   6.  61.  90.\n",
      "  23.  38.  44.  32.  36.  58.  70.  94.  29.  10.  54.  22.  46.  48.\n",
      "  65. 104.  77. 103.  55.  57.  24.  49. 110.  97. 114. 109. 136.  96.\n",
      " 107. 102.  80. 125.  85.  88.  75.  56.  72.  79.  71. 123. 118. 122.\n",
      " 113.  99. 134.  62. 105.  83. 108.  63. 126. 135. 120.  86.  91. 131.\n",
      "  76. 100.  93. 101. 121.  89.  51.  69. 124. 147.  87.  73. 115. 111.\n",
      "  66. 119.  98.  84. 116.  95.  78. 130. 128. 145. 133. 142. 127. 137.\n",
      " 146. 141. 129. 139. 144. 140. 148. 138. 143.]\n",
      "[ 9  7  1  3  5  0 10  2  8 11  4 13  6 12]\n",
      "[0 1]\n",
      "[1 0 2]\n",
      "[4 2 1 3 0]\n"
     ]
    }
   ],
   "source": [
    "'''\n",
    "columns that have nan values are var24, var36, var37, var38, var39\n",
    "'''\n",
    "\n",
    "print(df1['var24'].unique())\n",
    "print(df1['var36'].unique())\n",
    "print(df1['var37'].unique())\n",
    "print(df1['var38'].unique())\n",
    "print(df1['var39'].unique())"
   ]
  },
  {
   "cell_type": "code",
   "execution_count": 100,
   "metadata": {},
   "outputs": [
    {
     "name": "stdout",
     "output_type": "stream",
     "text": [
      "0\n",
      "0\n",
      "0\n",
      "0\n",
      "0\n",
      "(300000, 38)\n"
     ]
    }
   ],
   "source": [
    "#count of null values \n",
    "print(df1['var24'].isnull().sum()) \n",
    "print(df1['var36'].isnull().sum())\n",
    "print(df1['var37'].isnull().sum())\n",
    "print(df1['var38'].isnull().sum())\n",
    "print(df1['var39'].isnull().sum())\n",
    "print(df1.shape)"
   ]
  },
  {
   "cell_type": "code",
   "execution_count": 101,
   "metadata": {},
   "outputs": [],
   "source": [
    "# for var 36 => mode for imputation\n",
    "df1['var36'].fillna('Video/Internet',inplace = True)\n"
   ]
  },
  {
   "cell_type": "code",
   "execution_count": 102,
   "metadata": {},
   "outputs": [
    {
     "name": "stdout",
     "output_type": "stream",
     "text": [
      "var24  var36\n",
      "0.0    0          0.0\n",
      "       1          0.0\n",
      "       2          0.0\n",
      "       3          0.0\n",
      "       4          0.0\n",
      "                ...  \n",
      "148.0  3        148.0\n",
      "       5        148.0\n",
      "       7        148.0\n",
      "       8        148.0\n",
      "       9        148.0\n",
      "Name: var24, Length: 1201, dtype: float64\n"
     ]
    }
   ],
   "source": [
    "# for var24\n",
    "# Count of emails sent (in last 60 Days) where Scherp has been the internet provider\n",
    "types = ['Video/Internet/Voice','Video/Internet','Internet Only','Internet/Voice',\n",
    "         'Video/Internet/Voice/Homesecurity',\n",
    "         'Internet/Homesecurity','Video/Internet/Homesecurity',\n",
    "         'Internet/Voice/Homesecurity']\n",
    "print(df1.groupby(['var24','var36'])['var24'].mean())\n",
    "# imputing with zeros\n",
    "df1['var24'].fillna(0.00,inplace = True)\n",
    "\n"
   ]
  },
  {
   "cell_type": "code",
   "execution_count": 103,
   "metadata": {},
   "outputs": [],
   "source": [
    "df1['var37'].fillna('N',inplace = True)\n"
   ]
  },
  {
   "cell_type": "code",
   "execution_count": 104,
   "metadata": {},
   "outputs": [],
   "source": [
    "df1['var38'].fillna('Other',inplace = True)"
   ]
  },
  {
   "cell_type": "code",
   "execution_count": 105,
   "metadata": {},
   "outputs": [],
   "source": [
    "df1['var39'].fillna('Single Housing', inplace = True)"
   ]
  },
  {
   "cell_type": "code",
   "execution_count": 106,
   "metadata": {},
   "outputs": [
    {
     "name": "stdout",
     "output_type": "stream",
     "text": [
      "0.0      156006\n",
      "1.0       33185\n",
      "20.0      11866\n",
      "21.0      11215\n",
      "14.0       5262\n",
      "          ...  \n",
      "145.0        18\n",
      "148.0        17\n",
      "143.0        16\n",
      "146.0        16\n",
      "135.0        12\n",
      "Name: var24, Length: 149, dtype: int64\n",
      "7     109287\n",
      "9      98173\n",
      "1      63010\n",
      "5       9195\n",
      "3       8072\n",
      "10      5603\n",
      "8       5153\n",
      "2        714\n",
      "11       359\n",
      "0        160\n",
      "4        154\n",
      "13       107\n",
      "6         10\n",
      "12         3\n",
      "Name: var36, dtype: int64\n",
      "0    295302\n",
      "1      4698\n",
      "Name: var37, dtype: int64\n",
      "1    221433\n",
      "0     65235\n",
      "2     13332\n",
      "Name: var38, dtype: int64\n",
      "4    214838\n",
      "2     82374\n",
      "1      2209\n",
      "3       310\n",
      "0       269\n",
      "Name: var39, dtype: int64\n"
     ]
    }
   ],
   "source": [
    "print(df1['var24'].value_counts())\n",
    "print(df1['var36'].value_counts())\n",
    "print(df1['var37'].value_counts())\n",
    "print(df1['var38'].value_counts())\n",
    "print(df1['var39'].value_counts())"
   ]
  },
  {
   "cell_type": "code",
   "execution_count": 107,
   "metadata": {},
   "outputs": [],
   "source": [
    "# df1.isnull().any()"
   ]
  },
  {
   "cell_type": "code",
   "execution_count": 108,
   "metadata": {},
   "outputs": [],
   "source": [
    "# for i in df1.columns:\n",
    "#     print(df1[i].head(1))"
   ]
  },
  {
   "cell_type": "markdown",
   "metadata": {},
   "source": [
    "## Pandas Profiling"
   ]
  },
  {
   "cell_type": "code",
   "execution_count": 109,
   "metadata": {},
   "outputs": [],
   "source": [
    "# profile = pandas_profiling.ProfileReport(df1)"
   ]
  },
  {
   "cell_type": "code",
   "execution_count": 110,
   "metadata": {},
   "outputs": [],
   "source": [
    "# profile.to_file(output_file=\"eda_round_1.html\")"
   ]
  },
  {
   "cell_type": "code",
   "execution_count": 111,
   "metadata": {},
   "outputs": [],
   "source": [
    "from sklearn.preprocessing import LabelEncoder\n",
    "from sklearn.ensemble import RandomForestClassifier\n",
    "from sklearn.model_selection import train_test_split\n",
    "from sklearn.metrics import classification_report"
   ]
  },
  {
   "cell_type": "markdown",
   "metadata": {},
   "source": [
    "## Random forest classification"
   ]
  },
  {
   "cell_type": "code",
   "execution_count": 112,
   "metadata": {},
   "outputs": [],
   "source": [
    "#Auto encodes any dataframe column of type category or object.\n",
    "def dummyEncode(df):\n",
    "        columnsToEncode = list(df.select_dtypes(include=['category','object']))\n",
    "        le = LabelEncoder()\n",
    "        print (\"sdgad\")\n",
    "        for feature in columnsToEncode:\n",
    "            try:\n",
    "                df[feature] = le.fit_transform(df[feature])\n",
    "                print (feature)\n",
    "                print (le.classes_)\n",
    "                print (\"\\n\")\n",
    "            except:\n",
    "                print('Error encoding '+feature)\n",
    "        return df"
   ]
  },
  {
   "cell_type": "code",
   "execution_count": 113,
   "metadata": {},
   "outputs": [],
   "source": [
    "def splitXY(df):\n",
    "    return [df_encoded.loc[:, 'var1':'var40'], df_encoded[\"self_service_platform\"]]"
   ]
  },
  {
   "cell_type": "code",
   "execution_count": 114,
   "metadata": {},
   "outputs": [
    {
     "name": "stdout",
     "output_type": "stream",
     "text": [
      "sdgad\n"
     ]
    }
   ],
   "source": [
    "df_encoded = dummyEncode(df1)"
   ]
  },
  {
   "cell_type": "code",
   "execution_count": 115,
   "metadata": {},
   "outputs": [],
   "source": [
    "X,y=splitXY(df_encoded)\n",
    "X_train, X_test, y_train, y_test = train_test_split(X, y, test_size=0.33, random_state=42)"
   ]
  },
  {
   "cell_type": "code",
   "execution_count": 116,
   "metadata": {},
   "outputs": [],
   "source": [
    "clf = RandomForestClassifier(max_depth=5, random_state=0, class_weight=\"balanced\")"
   ]
  },
  {
   "cell_type": "code",
   "execution_count": 117,
   "metadata": {},
   "outputs": [
    {
     "data": {
      "text/plain": [
       "RandomForestClassifier(bootstrap=True, ccp_alpha=0.0, class_weight='balanced',\n",
       "                       criterion='gini', max_depth=5, max_features='auto',\n",
       "                       max_leaf_nodes=None, max_samples=None,\n",
       "                       min_impurity_decrease=0.0, min_impurity_split=None,\n",
       "                       min_samples_leaf=1, min_samples_split=2,\n",
       "                       min_weight_fraction_leaf=0.0, n_estimators=100,\n",
       "                       n_jobs=None, oob_score=False, random_state=0, verbose=0,\n",
       "                       warm_start=False)"
      ]
     },
     "execution_count": 117,
     "metadata": {},
     "output_type": "execute_result"
    }
   ],
   "source": [
    "clf.fit(X_train, y_train)"
   ]
  },
  {
   "cell_type": "code",
   "execution_count": 118,
   "metadata": {},
   "outputs": [
    {
     "name": "stdout",
     "output_type": "stream",
     "text": [
      "[7.83182276e-02 6.93292658e-03 6.03304206e-02 2.16226940e-02\n",
      " 7.31948894e-03 9.04716117e-02 3.07547262e-02 3.83945581e-02\n",
      " 5.96437998e-02 6.78772836e-02 1.50149557e-02 1.62531947e-02\n",
      " 1.53984720e-02 1.94359814e-02 3.96284241e-02 0.00000000e+00\n",
      " 5.44638295e-02 7.29184307e-02 3.48145472e-02 2.56153053e-02\n",
      " 0.00000000e+00 2.30549629e-02 3.72043037e-02 3.89561502e-02\n",
      " 5.02570772e-02 0.00000000e+00 1.46145821e-03 8.22955188e-02\n",
      " 9.23609729e-05 3.26286896e-04 7.01250188e-05 5.31574494e-03\n",
      " 2.05873696e-05 1.11100859e-03 3.33527676e-05 4.59218475e-03]\n"
     ]
    }
   ],
   "source": [
    "print(clf.feature_importances_)"
   ]
  },
  {
   "cell_type": "code",
   "execution_count": 119,
   "metadata": {},
   "outputs": [],
   "source": [
    "y_pred = clf.predict(X_test)"
   ]
  },
  {
   "cell_type": "code",
   "execution_count": 120,
   "metadata": {},
   "outputs": [
    {
     "name": "stdout",
     "output_type": "stream",
     "text": [
      "              precision    recall  f1-score   support\n",
      "\n",
      "           0       0.80      0.77      0.78     60632\n",
      "           1       0.62      0.50      0.55     18441\n",
      "           2       0.41      0.61      0.49     15892\n",
      "           3       0.59      0.34      0.43      4035\n",
      "\n",
      "    accuracy                           0.67     99000\n",
      "   macro avg       0.60      0.55      0.56     99000\n",
      "weighted avg       0.70      0.67      0.68     99000\n",
      "\n"
     ]
    }
   ],
   "source": [
    "print(classification_report(y_test, y_pred)) # Class balance"
   ]
  },
  {
   "cell_type": "code",
   "execution_count": 122,
   "metadata": {},
   "outputs": [
    {
     "name": "stdout",
     "output_type": "stream",
     "text": [
      "              precision    recall  f1-score   support\n",
      "\n",
      "           0       0.74      0.90      0.81     60632\n",
      "           1       0.64      0.49      0.55     18441\n",
      "           2       0.63      0.36      0.46     15892\n",
      "           3       0.59      0.23      0.33      4035\n",
      "\n",
      "    accuracy                           0.71     99000\n",
      "   macro avg       0.65      0.50      0.54     99000\n",
      "weighted avg       0.70      0.71      0.69     99000\n",
      "\n"
     ]
    }
   ],
   "source": [
    "clf_1 = RandomForestClassifier(max_depth=5, random_state=0)\n",
    "clf_1.fit(X_train, y_train)\n",
    "y_pred = clf_1.predict(X_test)\n",
    "print(classification_report(y_test, y_pred)) # Class not balanced"
   ]
  },
  {
   "cell_type": "code",
   "execution_count": 128,
   "metadata": {},
   "outputs": [
    {
     "name": "stdout",
     "output_type": "stream",
     "text": [
      "0.7367979797979798\n",
      "              precision    recall  f1-score   support\n",
      "\n",
      "           0       0.78      0.88      0.83     60632\n",
      "           1       0.65      0.55      0.60     18441\n",
      "           2       0.63      0.51      0.57     15892\n",
      "           3       0.59      0.33      0.42      4035\n",
      "\n",
      "    accuracy                           0.74     99000\n",
      "   macro avg       0.66      0.57      0.60     99000\n",
      "weighted avg       0.73      0.74      0.73     99000\n",
      "\n"
     ]
    }
   ],
   "source": [
    "clf_1 = RandomForestClassifier(max_depth=10, random_state=0)\n",
    "clf_1.fit(X_train, y_train)\n",
    "y_pred = clf_1.predict(X_test)\n",
    "print (clf_1.score(X_test, y_test))\n",
    "print(classification_report(y_test, y_pred)) # Class not balanced"
   ]
  },
  {
   "cell_type": "code",
   "execution_count": 129,
   "metadata": {},
   "outputs": [
    {
     "name": "stdout",
     "output_type": "stream",
     "text": [
      "0.7376565656565657\n",
      "              precision    recall  f1-score   support\n",
      "\n",
      "           0       0.78      0.88      0.83     60632\n",
      "           1       0.65      0.55      0.60     18441\n",
      "           2       0.63      0.52      0.57     15892\n",
      "           3       0.60      0.33      0.43      4035\n",
      "\n",
      "    accuracy                           0.74     99000\n",
      "   macro avg       0.67      0.57      0.61     99000\n",
      "weighted avg       0.73      0.74      0.73     99000\n",
      "\n"
     ]
    }
   ],
   "source": [
    "clf_1 = RandomForestClassifier(n_estimators=250, max_depth=10, random_state=0)\n",
    "clf_1.fit(X_train, y_train)\n",
    "y_pred = clf_1.predict(X_test)\n",
    "print (clf_1.score(X_test, y_test))\n",
    "print(classification_report(y_test, y_pred)) # Class not balanced"
   ]
  },
  {
   "cell_type": "markdown",
   "metadata": {},
   "source": [
    "## Feature Selection"
   ]
  },
  {
   "cell_type": "code",
   "execution_count": 141,
   "metadata": {},
   "outputs": [],
   "source": [
    "from sklearn.svm import LinearSVC\n",
    "from sklearn.feature_selection import SelectFromModel\n",
    "from sklearn.ensemble import ExtraTreesClassifier"
   ]
  },
  {
   "cell_type": "code",
   "execution_count": 131,
   "metadata": {},
   "outputs": [
    {
     "name": "stdout",
     "output_type": "stream",
     "text": [
      "0.687989898989899\n",
      "              precision    recall  f1-score   support\n",
      "\n",
      "           0       0.73      0.91      0.81     60632\n",
      "           1       0.54      0.46      0.50     18441\n",
      "           2       0.60      0.29      0.39     15892\n",
      "           3       0.60      0.01      0.02      4035\n",
      "\n",
      "    accuracy                           0.69     99000\n",
      "   macro avg       0.62      0.42      0.43     99000\n",
      "weighted avg       0.67      0.69      0.65     99000\n",
      "\n"
     ]
    }
   ],
   "source": [
    "lsvc = LinearSVC(C=0.01, penalty=\"l1\", dual=False).fit(X_train, y_train)\n",
    "y_pred = lsvc.predict(X_test)\n",
    "print (lsvc.score(X_test, y_test))\n",
    "print (classification_report(y_test, y_pred)) # Class not balanced"
   ]
  },
  {
   "cell_type": "code",
   "execution_count": 138,
   "metadata": {},
   "outputs": [],
   "source": [
    "model = SelectFromModel(lsvc, prefit=True)\n",
    "X_train_select = model.transform(X_train)\n",
    "X_test_select = model.transform(X_test)"
   ]
  },
  {
   "cell_type": "code",
   "execution_count": 139,
   "metadata": {},
   "outputs": [
    {
     "name": "stdout",
     "output_type": "stream",
     "text": [
      "0.7292525252525253\n",
      "              precision    recall  f1-score   support\n",
      "\n",
      "           0       0.77      0.88      0.82     60632\n",
      "           1       0.65      0.53      0.58     18441\n",
      "           2       0.63      0.48      0.54     15892\n",
      "           3       0.59      0.32      0.42      4035\n",
      "\n",
      "    accuracy                           0.73     99000\n",
      "   macro avg       0.66      0.55      0.59     99000\n",
      "weighted avg       0.72      0.73      0.72     99000\n",
      "\n"
     ]
    }
   ],
   "source": [
    "clf_1 = RandomForestClassifier(n_estimators=250, max_depth=10, random_state=0)\n",
    "clf_1.fit(X_train_select, y_train)\n",
    "y_pred = clf_1.predict(X_test_select)\n",
    "print (clf_1.score(X_test_select, y_test))\n",
    "print(classification_report(y_test, y_pred)) # Class not balanced"
   ]
  },
  {
   "cell_type": "code",
   "execution_count": 142,
   "metadata": {},
   "outputs": [],
   "source": [
    "clf = ExtraTreesClassifier(n_estimators=50)\n",
    "clf = clf.fit(X, y)\n",
    "model = SelectFromModel(clf, prefit=True)\n",
    "X_train_select = model.transform(X_train)\n",
    "X_test_select = model.transform(X_test)"
   ]
  },
  {
   "cell_type": "code",
   "execution_count": 145,
   "metadata": {},
   "outputs": [
    {
     "name": "stdout",
     "output_type": "stream",
     "text": [
      "0.738020202020202\n",
      "              precision    recall  f1-score   support\n",
      "\n",
      "           0       0.79      0.88      0.83     60632\n",
      "           1       0.65      0.55      0.59     18441\n",
      "           2       0.62      0.54      0.57     15892\n",
      "           3       0.60      0.34      0.43      4035\n",
      "\n",
      "    accuracy                           0.74     99000\n",
      "   macro avg       0.66      0.57      0.61     99000\n",
      "weighted avg       0.73      0.74      0.73     99000\n",
      "\n"
     ]
    }
   ],
   "source": [
    "clf_1 = RandomForestClassifier(n_estimators=250, max_depth=10, random_state=0)\n",
    "clf_1.fit(X_train_select, y_train)\n",
    "y_pred = clf_1.predict(X_test_select)\n",
    "print (clf_1.score(X_test_select, y_test))\n",
    "print(classification_report(y_test, y_pred)) # Class not balanced"
   ]
  },
  {
   "cell_type": "code",
   "execution_count": 149,
   "metadata": {},
   "outputs": [
    {
     "name": "stdout",
     "output_type": "stream",
     "text": [
      "0.732989898989899\n",
      "              precision    recall  f1-score   support\n",
      "\n",
      "           0       0.80      0.85      0.83     60632\n",
      "           1       0.60      0.58      0.59     18441\n",
      "           2       0.61      0.55      0.58     15892\n",
      "           3       0.60      0.35      0.44      4035\n",
      "\n",
      "    accuracy                           0.73     99000\n",
      "   macro avg       0.65      0.58      0.61     99000\n",
      "weighted avg       0.73      0.73      0.73     99000\n",
      "\n"
     ]
    }
   ],
   "source": [
    "clf_1 = RandomForestClassifier(n_estimators=250, max_depth=10, random_state=0, class_weight=\"balanced\")\n",
    "clf_1.fit(X_train_select, y_train)\n",
    "y_pred = clf_1.predict(X_test_select)\n",
    "print (clf_1.score(X_test_select, y_test))\n",
    "print(classification_report(y_test, y_pred)) # Class not balanced"
   ]
  },
  {
   "cell_type": "markdown",
   "metadata": {},
   "source": [
    "## Xgboost classification"
   ]
  },
  {
   "cell_type": "code",
   "execution_count": 156,
   "metadata": {},
   "outputs": [],
   "source": [
    "# !pip install xgboost\n",
    "import xgboost as xgb\n",
    "from xgboost.sklearn import XGBClassifier\n"
   ]
  },
  {
   "cell_type": "code",
   "execution_count": 154,
   "metadata": {},
   "outputs": [],
   "source": [
    "D_train_select = xgb.DMatrix(X_train_select, label=y_train)\n",
    "D_test_select = xgb.DMatrix(X_test_select, label=y_test)"
   ]
  },
  {
   "cell_type": "code",
   "execution_count": 155,
   "metadata": {},
   "outputs": [],
   "source": [
    "D_train = xgb.DMatrix(X_train_select, label=y_train)\n",
    "D_test = xgb.DMatrix(X_test_select, label=y_test)"
   ]
  },
  {
   "cell_type": "code",
   "execution_count": 157,
   "metadata": {},
   "outputs": [],
   "source": [
    "xgb4 = XGBClassifier(\n",
    " learning_rate =0.01,\n",
    " n_estimators=5000,\n",
    " max_depth=4,\n",
    " min_child_weight=6,\n",
    " gamma=0,\n",
    " subsample=0.8,\n",
    " colsample_bytree=0.8,\n",
    " reg_alpha=0.005,\n",
    " objective= 'binary:logistic',\n",
    " nthread=4,\n",
    " scale_pos_weight=1,\n",
    " seed=27)"
   ]
  },
  {
   "cell_type": "code",
   "execution_count": 163,
   "metadata": {},
   "outputs": [
    {
     "data": {
      "text/plain": [
       "XGBClassifier(base_score=0.5, booster=None, colsample_bylevel=1,\n",
       "              colsample_bynode=1, colsample_bytree=0.8, gamma=0, gpu_id=-1,\n",
       "              importance_type='gain', interaction_constraints=None,\n",
       "              learning_rate=0.01, max_delta_step=0, max_depth=4,\n",
       "              min_child_weight=6, missing=nan, monotone_constraints=None,\n",
       "              n_estimators=5000, n_jobs=4, nthread=4, num_parallel_tree=1,\n",
       "              objective='multi:softprob', random_state=27, reg_alpha=0.005,\n",
       "              reg_lambda=1, scale_pos_weight=1, seed=27, subsample=0.8,\n",
       "              tree_method=None, validate_parameters=False, verbosity=None)"
      ]
     },
     "execution_count": 163,
     "metadata": {},
     "output_type": "execute_result"
    }
   ],
   "source": [
    "xgb4.fit(X_train_select, y_train)"
   ]
  },
  {
   "cell_type": "markdown",
   "metadata": {},
   "source": [
    "## Hyperparameter "
   ]
  },
  {
   "cell_type": "code",
   "execution_count": null,
   "metadata": {},
   "outputs": [],
   "source": []
  }
 ],
 "metadata": {
  "kernelspec": {
   "display_name": "Python 3",
   "language": "python",
   "name": "python3"
  },
  "language_info": {
   "codemirror_mode": {
    "name": "ipython",
    "version": 3
   },
   "file_extension": ".py",
   "mimetype": "text/x-python",
   "name": "python",
   "nbconvert_exporter": "python",
   "pygments_lexer": "ipython3",
   "version": "3.6.7"
  }
 },
 "nbformat": 4,
 "nbformat_minor": 4
}
